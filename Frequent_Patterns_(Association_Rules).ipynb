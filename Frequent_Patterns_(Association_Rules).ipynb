{
  "nbformat": 4,
  "nbformat_minor": 0,
  "metadata": {
    "colab": {
      "provenance": [],
      "toc_visible": true,
      "include_colab_link": true
    },
    "kernelspec": {
      "name": "python3",
      "display_name": "Python 3"
    },
    "language_info": {
      "name": "python"
    }
  },
  "cells": [
    {
      "cell_type": "markdown",
      "metadata": {
        "id": "view-in-github",
        "colab_type": "text"
      },
      "source": [
        "<a href=\"https://colab.research.google.com/github/Sashimimeow/BSC_DPDM23/blob/main/Frequent_Patterns_(Association_Rules).ipynb\" target=\"_parent\"><img src=\"https://colab.research.google.com/assets/colab-badge.svg\" alt=\"Open In Colab\"/></a>"
      ]
    },
    {
      "cell_type": "code",
      "metadata": {
        "id": "KZmRixV_o0Jw"
      },
      "source": [
        "import pandas as pd\n",
        "import os"
      ],
      "execution_count": 1,
      "outputs": []
    },
    {
      "cell_type": "markdown",
      "source": [],
      "metadata": {
        "id": "G_hv0xP1aKy6"
      }
    },
    {
      "cell_type": "code",
      "metadata": {
        "id": "BZaeBFmzp6zA",
        "colab": {
          "base_uri": "https://localhost:8080/"
        },
        "outputId": "12671bd7-802d-45e6-a2c0-65752fa61ba6"
      },
      "source": [
        "\n",
        "from google.colab import drive\n",
        "drive.mount('/content/drive')\n",
        "path = '/content/drive/MyDrive/bsc_dpdm_23/'"
      ],
      "execution_count": 2,
      "outputs": [
        {
          "output_type": "stream",
          "name": "stdout",
          "text": [
            "Drive already mounted at /content/drive; to attempt to forcibly remount, call drive.mount(\"/content/drive\", force_remount=True).\n"
          ]
        }
      ]
    },
    {
      "cell_type": "code",
      "source": [
        "from google.colab import drive\n",
        "drive.mount('/content/drive')"
      ],
      "metadata": {
        "id": "5nEuyoZjUKTv",
        "colab": {
          "base_uri": "https://localhost:8080/"
        },
        "outputId": "98368acf-137c-4712-9553-f3ad1ffa6f66"
      },
      "execution_count": 3,
      "outputs": [
        {
          "output_type": "stream",
          "name": "stdout",
          "text": [
            "Drive already mounted at /content/drive; to attempt to forcibly remount, call drive.mount(\"/content/drive\", force_remount=True).\n"
          ]
        }
      ]
    },
    {
      "cell_type": "code",
      "metadata": {
        "id": "ikJazGz6qAn7"
      },
      "source": [
        "data = pd.read_csv(os.path.join(path,'reduced_marketbasket.csv'),encoding='latin-1')"
      ],
      "execution_count": 4,
      "outputs": []
    },
    {
      "cell_type": "code",
      "metadata": {
        "colab": {
          "base_uri": "https://localhost:8080/",
          "height": 597
        },
        "id": "vVP_s3oxqNnU",
        "outputId": "5d85cf7e-7c0e-4129-e5ee-4456e3635b97"
      },
      "source": [
        "data"
      ],
      "execution_count": 5,
      "outputs": [
        {
          "output_type": "execute_result",
          "data": {
            "text/plain": [
              "       InvoiceNo StockCode                          Description  Quantity  \\\n",
              "0         536365    85123A   WHITE HANGING HEART T-LIGHT HOLDER         6   \n",
              "1         536365     71053                  WHITE METAL LANTERN         6   \n",
              "2         536365    84406B       CREAM CUPID HEARTS COAT HANGER         8   \n",
              "3         536365    84029G  KNITTED UNION FLAG HOT WATER BOTTLE         6   \n",
              "4         536365    84029E       RED WOOLLY HOTTIE WHITE HEART.         6   \n",
              "...          ...       ...                                  ...       ...   \n",
              "541904    581587     22613          PACK OF 20 SPACEBOY NAPKINS        12   \n",
              "541905    581587     22899         CHILDREN'S APRON DOLLY GIRL          6   \n",
              "541906    581587     23254        CHILDRENS CUTLERY DOLLY GIRL          4   \n",
              "541907    581587     23255      CHILDRENS CUTLERY CIRCUS PARADE         4   \n",
              "541908    581587     22138        BAKING SET 9 PIECE RETROSPOT          3   \n",
              "\n",
              "             InvoiceDate  UnitPrice  CustomerID         Country  \n",
              "0       12/01/2010 08:26       2.55     17850.0  United Kingdom  \n",
              "1       12/01/2010 08:26       3.39     17850.0  United Kingdom  \n",
              "2       12/01/2010 08:26       2.75     17850.0  United Kingdom  \n",
              "3       12/01/2010 08:26       3.39     17850.0  United Kingdom  \n",
              "4       12/01/2010 08:26       3.39     17850.0  United Kingdom  \n",
              "...                  ...        ...         ...             ...  \n",
              "541904  12/09/2011 12:50       0.85     12680.0          France  \n",
              "541905  12/09/2011 12:50       2.10     12680.0          France  \n",
              "541906  12/09/2011 12:50       4.15     12680.0          France  \n",
              "541907  12/09/2011 12:50       4.15     12680.0          France  \n",
              "541908  12/09/2011 12:50       4.95     12680.0          France  \n",
              "\n",
              "[541909 rows x 8 columns]"
            ],
            "text/html": [
              "\n",
              "  <div id=\"df-fc8b07b5-4736-4ff6-aeef-a09a9c647239\" class=\"colab-df-container\">\n",
              "    <div>\n",
              "<style scoped>\n",
              "    .dataframe tbody tr th:only-of-type {\n",
              "        vertical-align: middle;\n",
              "    }\n",
              "\n",
              "    .dataframe tbody tr th {\n",
              "        vertical-align: top;\n",
              "    }\n",
              "\n",
              "    .dataframe thead th {\n",
              "        text-align: right;\n",
              "    }\n",
              "</style>\n",
              "<table border=\"1\" class=\"dataframe\">\n",
              "  <thead>\n",
              "    <tr style=\"text-align: right;\">\n",
              "      <th></th>\n",
              "      <th>InvoiceNo</th>\n",
              "      <th>StockCode</th>\n",
              "      <th>Description</th>\n",
              "      <th>Quantity</th>\n",
              "      <th>InvoiceDate</th>\n",
              "      <th>UnitPrice</th>\n",
              "      <th>CustomerID</th>\n",
              "      <th>Country</th>\n",
              "    </tr>\n",
              "  </thead>\n",
              "  <tbody>\n",
              "    <tr>\n",
              "      <th>0</th>\n",
              "      <td>536365</td>\n",
              "      <td>85123A</td>\n",
              "      <td>WHITE HANGING HEART T-LIGHT HOLDER</td>\n",
              "      <td>6</td>\n",
              "      <td>12/01/2010 08:26</td>\n",
              "      <td>2.55</td>\n",
              "      <td>17850.0</td>\n",
              "      <td>United Kingdom</td>\n",
              "    </tr>\n",
              "    <tr>\n",
              "      <th>1</th>\n",
              "      <td>536365</td>\n",
              "      <td>71053</td>\n",
              "      <td>WHITE METAL LANTERN</td>\n",
              "      <td>6</td>\n",
              "      <td>12/01/2010 08:26</td>\n",
              "      <td>3.39</td>\n",
              "      <td>17850.0</td>\n",
              "      <td>United Kingdom</td>\n",
              "    </tr>\n",
              "    <tr>\n",
              "      <th>2</th>\n",
              "      <td>536365</td>\n",
              "      <td>84406B</td>\n",
              "      <td>CREAM CUPID HEARTS COAT HANGER</td>\n",
              "      <td>8</td>\n",
              "      <td>12/01/2010 08:26</td>\n",
              "      <td>2.75</td>\n",
              "      <td>17850.0</td>\n",
              "      <td>United Kingdom</td>\n",
              "    </tr>\n",
              "    <tr>\n",
              "      <th>3</th>\n",
              "      <td>536365</td>\n",
              "      <td>84029G</td>\n",
              "      <td>KNITTED UNION FLAG HOT WATER BOTTLE</td>\n",
              "      <td>6</td>\n",
              "      <td>12/01/2010 08:26</td>\n",
              "      <td>3.39</td>\n",
              "      <td>17850.0</td>\n",
              "      <td>United Kingdom</td>\n",
              "    </tr>\n",
              "    <tr>\n",
              "      <th>4</th>\n",
              "      <td>536365</td>\n",
              "      <td>84029E</td>\n",
              "      <td>RED WOOLLY HOTTIE WHITE HEART.</td>\n",
              "      <td>6</td>\n",
              "      <td>12/01/2010 08:26</td>\n",
              "      <td>3.39</td>\n",
              "      <td>17850.0</td>\n",
              "      <td>United Kingdom</td>\n",
              "    </tr>\n",
              "    <tr>\n",
              "      <th>...</th>\n",
              "      <td>...</td>\n",
              "      <td>...</td>\n",
              "      <td>...</td>\n",
              "      <td>...</td>\n",
              "      <td>...</td>\n",
              "      <td>...</td>\n",
              "      <td>...</td>\n",
              "      <td>...</td>\n",
              "    </tr>\n",
              "    <tr>\n",
              "      <th>541904</th>\n",
              "      <td>581587</td>\n",
              "      <td>22613</td>\n",
              "      <td>PACK OF 20 SPACEBOY NAPKINS</td>\n",
              "      <td>12</td>\n",
              "      <td>12/09/2011 12:50</td>\n",
              "      <td>0.85</td>\n",
              "      <td>12680.0</td>\n",
              "      <td>France</td>\n",
              "    </tr>\n",
              "    <tr>\n",
              "      <th>541905</th>\n",
              "      <td>581587</td>\n",
              "      <td>22899</td>\n",
              "      <td>CHILDREN'S APRON DOLLY GIRL</td>\n",
              "      <td>6</td>\n",
              "      <td>12/09/2011 12:50</td>\n",
              "      <td>2.10</td>\n",
              "      <td>12680.0</td>\n",
              "      <td>France</td>\n",
              "    </tr>\n",
              "    <tr>\n",
              "      <th>541906</th>\n",
              "      <td>581587</td>\n",
              "      <td>23254</td>\n",
              "      <td>CHILDRENS CUTLERY DOLLY GIRL</td>\n",
              "      <td>4</td>\n",
              "      <td>12/09/2011 12:50</td>\n",
              "      <td>4.15</td>\n",
              "      <td>12680.0</td>\n",
              "      <td>France</td>\n",
              "    </tr>\n",
              "    <tr>\n",
              "      <th>541907</th>\n",
              "      <td>581587</td>\n",
              "      <td>23255</td>\n",
              "      <td>CHILDRENS CUTLERY CIRCUS PARADE</td>\n",
              "      <td>4</td>\n",
              "      <td>12/09/2011 12:50</td>\n",
              "      <td>4.15</td>\n",
              "      <td>12680.0</td>\n",
              "      <td>France</td>\n",
              "    </tr>\n",
              "    <tr>\n",
              "      <th>541908</th>\n",
              "      <td>581587</td>\n",
              "      <td>22138</td>\n",
              "      <td>BAKING SET 9 PIECE RETROSPOT</td>\n",
              "      <td>3</td>\n",
              "      <td>12/09/2011 12:50</td>\n",
              "      <td>4.95</td>\n",
              "      <td>12680.0</td>\n",
              "      <td>France</td>\n",
              "    </tr>\n",
              "  </tbody>\n",
              "</table>\n",
              "<p>541909 rows × 8 columns</p>\n",
              "</div>\n",
              "    <div class=\"colab-df-buttons\">\n",
              "\n",
              "  <div class=\"colab-df-container\">\n",
              "    <button class=\"colab-df-convert\" onclick=\"convertToInteractive('df-fc8b07b5-4736-4ff6-aeef-a09a9c647239')\"\n",
              "            title=\"Convert this dataframe to an interactive table.\"\n",
              "            style=\"display:none;\">\n",
              "\n",
              "  <svg xmlns=\"http://www.w3.org/2000/svg\" height=\"24px\" viewBox=\"0 -960 960 960\">\n",
              "    <path d=\"M120-120v-720h720v720H120Zm60-500h600v-160H180v160Zm220 220h160v-160H400v160Zm0 220h160v-160H400v160ZM180-400h160v-160H180v160Zm440 0h160v-160H620v160ZM180-180h160v-160H180v160Zm440 0h160v-160H620v160Z\"/>\n",
              "  </svg>\n",
              "    </button>\n",
              "\n",
              "  <style>\n",
              "    .colab-df-container {\n",
              "      display:flex;\n",
              "      gap: 12px;\n",
              "    }\n",
              "\n",
              "    .colab-df-convert {\n",
              "      background-color: #E8F0FE;\n",
              "      border: none;\n",
              "      border-radius: 50%;\n",
              "      cursor: pointer;\n",
              "      display: none;\n",
              "      fill: #1967D2;\n",
              "      height: 32px;\n",
              "      padding: 0 0 0 0;\n",
              "      width: 32px;\n",
              "    }\n",
              "\n",
              "    .colab-df-convert:hover {\n",
              "      background-color: #E2EBFA;\n",
              "      box-shadow: 0px 1px 2px rgba(60, 64, 67, 0.3), 0px 1px 3px 1px rgba(60, 64, 67, 0.15);\n",
              "      fill: #174EA6;\n",
              "    }\n",
              "\n",
              "    .colab-df-buttons div {\n",
              "      margin-bottom: 4px;\n",
              "    }\n",
              "\n",
              "    [theme=dark] .colab-df-convert {\n",
              "      background-color: #3B4455;\n",
              "      fill: #D2E3FC;\n",
              "    }\n",
              "\n",
              "    [theme=dark] .colab-df-convert:hover {\n",
              "      background-color: #434B5C;\n",
              "      box-shadow: 0px 1px 3px 1px rgba(0, 0, 0, 0.15);\n",
              "      filter: drop-shadow(0px 1px 2px rgba(0, 0, 0, 0.3));\n",
              "      fill: #FFFFFF;\n",
              "    }\n",
              "  </style>\n",
              "\n",
              "    <script>\n",
              "      const buttonEl =\n",
              "        document.querySelector('#df-fc8b07b5-4736-4ff6-aeef-a09a9c647239 button.colab-df-convert');\n",
              "      buttonEl.style.display =\n",
              "        google.colab.kernel.accessAllowed ? 'block' : 'none';\n",
              "\n",
              "      async function convertToInteractive(key) {\n",
              "        const element = document.querySelector('#df-fc8b07b5-4736-4ff6-aeef-a09a9c647239');\n",
              "        const dataTable =\n",
              "          await google.colab.kernel.invokeFunction('convertToInteractive',\n",
              "                                                    [key], {});\n",
              "        if (!dataTable) return;\n",
              "\n",
              "        const docLinkHtml = 'Like what you see? Visit the ' +\n",
              "          '<a target=\"_blank\" href=https://colab.research.google.com/notebooks/data_table.ipynb>data table notebook</a>'\n",
              "          + ' to learn more about interactive tables.';\n",
              "        element.innerHTML = '';\n",
              "        dataTable['output_type'] = 'display_data';\n",
              "        await google.colab.output.renderOutput(dataTable, element);\n",
              "        const docLink = document.createElement('div');\n",
              "        docLink.innerHTML = docLinkHtml;\n",
              "        element.appendChild(docLink);\n",
              "      }\n",
              "    </script>\n",
              "  </div>\n",
              "\n",
              "\n",
              "<div id=\"df-b5dcab09-fb74-4145-825a-542e09488fd5\">\n",
              "  <button class=\"colab-df-quickchart\" onclick=\"quickchart('df-b5dcab09-fb74-4145-825a-542e09488fd5')\"\n",
              "            title=\"Suggest charts\"\n",
              "            style=\"display:none;\">\n",
              "\n",
              "<svg xmlns=\"http://www.w3.org/2000/svg\" height=\"24px\"viewBox=\"0 0 24 24\"\n",
              "     width=\"24px\">\n",
              "    <g>\n",
              "        <path d=\"M19 3H5c-1.1 0-2 .9-2 2v14c0 1.1.9 2 2 2h14c1.1 0 2-.9 2-2V5c0-1.1-.9-2-2-2zM9 17H7v-7h2v7zm4 0h-2V7h2v10zm4 0h-2v-4h2v4z\"/>\n",
              "    </g>\n",
              "</svg>\n",
              "  </button>\n",
              "\n",
              "<style>\n",
              "  .colab-df-quickchart {\n",
              "      --bg-color: #E8F0FE;\n",
              "      --fill-color: #1967D2;\n",
              "      --hover-bg-color: #E2EBFA;\n",
              "      --hover-fill-color: #174EA6;\n",
              "      --disabled-fill-color: #AAA;\n",
              "      --disabled-bg-color: #DDD;\n",
              "  }\n",
              "\n",
              "  [theme=dark] .colab-df-quickchart {\n",
              "      --bg-color: #3B4455;\n",
              "      --fill-color: #D2E3FC;\n",
              "      --hover-bg-color: #434B5C;\n",
              "      --hover-fill-color: #FFFFFF;\n",
              "      --disabled-bg-color: #3B4455;\n",
              "      --disabled-fill-color: #666;\n",
              "  }\n",
              "\n",
              "  .colab-df-quickchart {\n",
              "    background-color: var(--bg-color);\n",
              "    border: none;\n",
              "    border-radius: 50%;\n",
              "    cursor: pointer;\n",
              "    display: none;\n",
              "    fill: var(--fill-color);\n",
              "    height: 32px;\n",
              "    padding: 0;\n",
              "    width: 32px;\n",
              "  }\n",
              "\n",
              "  .colab-df-quickchart:hover {\n",
              "    background-color: var(--hover-bg-color);\n",
              "    box-shadow: 0 1px 2px rgba(60, 64, 67, 0.3), 0 1px 3px 1px rgba(60, 64, 67, 0.15);\n",
              "    fill: var(--button-hover-fill-color);\n",
              "  }\n",
              "\n",
              "  .colab-df-quickchart-complete:disabled,\n",
              "  .colab-df-quickchart-complete:disabled:hover {\n",
              "    background-color: var(--disabled-bg-color);\n",
              "    fill: var(--disabled-fill-color);\n",
              "    box-shadow: none;\n",
              "  }\n",
              "\n",
              "  .colab-df-spinner {\n",
              "    border: 2px solid var(--fill-color);\n",
              "    border-color: transparent;\n",
              "    border-bottom-color: var(--fill-color);\n",
              "    animation:\n",
              "      spin 1s steps(1) infinite;\n",
              "  }\n",
              "\n",
              "  @keyframes spin {\n",
              "    0% {\n",
              "      border-color: transparent;\n",
              "      border-bottom-color: var(--fill-color);\n",
              "      border-left-color: var(--fill-color);\n",
              "    }\n",
              "    20% {\n",
              "      border-color: transparent;\n",
              "      border-left-color: var(--fill-color);\n",
              "      border-top-color: var(--fill-color);\n",
              "    }\n",
              "    30% {\n",
              "      border-color: transparent;\n",
              "      border-left-color: var(--fill-color);\n",
              "      border-top-color: var(--fill-color);\n",
              "      border-right-color: var(--fill-color);\n",
              "    }\n",
              "    40% {\n",
              "      border-color: transparent;\n",
              "      border-right-color: var(--fill-color);\n",
              "      border-top-color: var(--fill-color);\n",
              "    }\n",
              "    60% {\n",
              "      border-color: transparent;\n",
              "      border-right-color: var(--fill-color);\n",
              "    }\n",
              "    80% {\n",
              "      border-color: transparent;\n",
              "      border-right-color: var(--fill-color);\n",
              "      border-bottom-color: var(--fill-color);\n",
              "    }\n",
              "    90% {\n",
              "      border-color: transparent;\n",
              "      border-bottom-color: var(--fill-color);\n",
              "    }\n",
              "  }\n",
              "</style>\n",
              "\n",
              "  <script>\n",
              "    async function quickchart(key) {\n",
              "      const quickchartButtonEl =\n",
              "        document.querySelector('#' + key + ' button');\n",
              "      quickchartButtonEl.disabled = true;  // To prevent multiple clicks.\n",
              "      quickchartButtonEl.classList.add('colab-df-spinner');\n",
              "      try {\n",
              "        const charts = await google.colab.kernel.invokeFunction(\n",
              "            'suggestCharts', [key], {});\n",
              "      } catch (error) {\n",
              "        console.error('Error during call to suggestCharts:', error);\n",
              "      }\n",
              "      quickchartButtonEl.classList.remove('colab-df-spinner');\n",
              "      quickchartButtonEl.classList.add('colab-df-quickchart-complete');\n",
              "    }\n",
              "    (() => {\n",
              "      let quickchartButtonEl =\n",
              "        document.querySelector('#df-b5dcab09-fb74-4145-825a-542e09488fd5 button');\n",
              "      quickchartButtonEl.style.display =\n",
              "        google.colab.kernel.accessAllowed ? 'block' : 'none';\n",
              "    })();\n",
              "  </script>\n",
              "</div>\n",
              "    </div>\n",
              "  </div>\n"
            ]
          },
          "metadata": {},
          "execution_count": 5
        }
      ]
    },
    {
      "cell_type": "code",
      "source": [
        "set(data['Country'])"
      ],
      "metadata": {
        "colab": {
          "base_uri": "https://localhost:8080/"
        },
        "id": "GzbLKF_eGxA1",
        "outputId": "fbc42ae3-ceaf-4a78-f3a1-7a98f8d99115"
      },
      "execution_count": 6,
      "outputs": [
        {
          "output_type": "execute_result",
          "data": {
            "text/plain": [
              "{'Australia',\n",
              " 'Austria',\n",
              " 'Bahrain',\n",
              " 'Belgium',\n",
              " 'Brazil',\n",
              " 'Canada',\n",
              " 'Channel Islands',\n",
              " 'Cyprus',\n",
              " 'Czech Republic',\n",
              " 'Denmark',\n",
              " 'EIRE',\n",
              " 'European Community',\n",
              " 'Finland',\n",
              " 'France',\n",
              " 'Germany',\n",
              " 'Greece',\n",
              " 'Hong Kong',\n",
              " 'Iceland',\n",
              " 'Israel',\n",
              " 'Italy',\n",
              " 'Japan',\n",
              " 'Lebanon',\n",
              " 'Lithuania',\n",
              " 'Malta',\n",
              " 'Netherlands',\n",
              " 'Norway',\n",
              " 'Poland',\n",
              " 'Portugal',\n",
              " 'RSA',\n",
              " 'Saudi Arabia',\n",
              " 'Singapore',\n",
              " 'Spain',\n",
              " 'Sweden',\n",
              " 'Switzerland',\n",
              " 'USA',\n",
              " 'United Arab Emirates',\n",
              " 'United Kingdom',\n",
              " 'Unspecified'}"
            ]
          },
          "metadata": {},
          "execution_count": 6
        }
      ]
    },
    {
      "cell_type": "markdown",
      "source": [
        "# แปลง Data ให้อยู่ในรูปแบบ Transaction data ด้วย $groupby.apply(list)$"
      ],
      "metadata": {
        "id": "51nap2ZSV4OY"
      }
    },
    {
      "cell_type": "code",
      "metadata": {
        "colab": {
          "base_uri": "https://localhost:8080/"
        },
        "id": "tgURZufxqOsX",
        "outputId": "fef6e4e7-a30d-43a2-8521-4de691aea7ed"
      },
      "source": [
        "data.groupby('InvoiceNo')['StockCode'].apply(list)"
      ],
      "execution_count": 7,
      "outputs": [
        {
          "output_type": "execute_result",
          "data": {
            "text/plain": [
              "InvoiceNo\n",
              "536365     [85123A, 71053, 84406B, 84029G, 84029E, 22752,...\n",
              "536366                                        [22633, 22632]\n",
              "536367     [84879, 22745, 22748, 22749, 22310, 84969, 226...\n",
              "536368                          [22960, 22913, 22912, 22914]\n",
              "536369                                               [21756]\n",
              "                                 ...                        \n",
              "C581484                                              [23843]\n",
              "C581490                                       [22178, 23144]\n",
              "C581499                                                  [M]\n",
              "C581568                                              [21258]\n",
              "C581569                                       [84978, 20979]\n",
              "Name: StockCode, Length: 25900, dtype: object"
            ]
          },
          "metadata": {},
          "execution_count": 7
        }
      ]
    },
    {
      "cell_type": "code",
      "source": [
        "data.groupby('InvoiceNo')['StockCode'].apply(list)"
      ],
      "metadata": {
        "colab": {
          "base_uri": "https://localhost:8080/"
        },
        "id": "dFZW1VQjWj5g",
        "outputId": "c43ace38-235a-4b34-cf23-12d83fc74619"
      },
      "execution_count": 8,
      "outputs": [
        {
          "output_type": "execute_result",
          "data": {
            "text/plain": [
              "InvoiceNo\n",
              "536365     [85123A, 71053, 84406B, 84029G, 84029E, 22752,...\n",
              "536366                                        [22633, 22632]\n",
              "536367     [84879, 22745, 22748, 22749, 22310, 84969, 226...\n",
              "536368                          [22960, 22913, 22912, 22914]\n",
              "536369                                               [21756]\n",
              "                                 ...                        \n",
              "C581484                                              [23843]\n",
              "C581490                                       [22178, 23144]\n",
              "C581499                                                  [M]\n",
              "C581568                                              [21258]\n",
              "C581569                                       [84978, 20979]\n",
              "Name: StockCode, Length: 25900, dtype: object"
            ]
          },
          "metadata": {},
          "execution_count": 8
        }
      ]
    },
    {
      "cell_type": "code",
      "metadata": {
        "id": "WQJgxn-KuAPL"
      },
      "source": [
        "transactions = data.groupby('InvoiceNo')['StockCode'].apply(list) #เอาตัวแปรมาเก็บ"
      ],
      "execution_count": 9,
      "outputs": []
    },
    {
      "cell_type": "markdown",
      "source": [
        "เตรียม data เสร็จแล้ว"
      ],
      "metadata": {
        "id": "Mynbh29EW7rd"
      }
    },
    {
      "cell_type": "markdown",
      "metadata": {
        "id": "TqkZl7tUsgUT"
      },
      "source": [
        "# ทำ Association Rules"
      ]
    },
    {
      "cell_type": "code",
      "metadata": {
        "colab": {
          "base_uri": "https://localhost:8080/"
        },
        "id": "kxLayaaAtkh8",
        "outputId": "2089a299-b747-4955-b570-9945f0f7ac73"
      },
      "source": [
        "!pip install apyori #ต้อง install แพ๊กเกตใหม่ เพราะไม่ใช่ทั่วๆไปที่คนใช้ install ครั้งเดียวพอ"
      ],
      "execution_count": 10,
      "outputs": [
        {
          "output_type": "stream",
          "name": "stdout",
          "text": [
            "Requirement already satisfied: apyori in /usr/local/lib/python3.10/dist-packages (1.1.2)\n"
          ]
        }
      ]
    },
    {
      "cell_type": "code",
      "metadata": {
        "id": "MU_DkGZ2sKw_"
      },
      "source": [
        "from apyori import apriori"
      ],
      "execution_count": 11,
      "outputs": []
    },
    {
      "cell_type": "code",
      "source": [
        "apriori(transactions,min_support = 0.065)"
      ],
      "metadata": {
        "colab": {
          "base_uri": "https://localhost:8080/"
        },
        "id": "XiDw20j_ZP45",
        "outputId": "5780be7d-6a8d-48d1-b7cc-0a8f81f8acbc"
      },
      "execution_count": 12,
      "outputs": [
        {
          "output_type": "execute_result",
          "data": {
            "text/plain": [
              "<generator object apriori at 0x7d4709a2bae0>"
            ]
          },
          "metadata": {},
          "execution_count": 12
        }
      ]
    },
    {
      "cell_type": "code",
      "source": [
        "list(apriori(transactions,min_support = 0.065))"
      ],
      "metadata": {
        "colab": {
          "base_uri": "https://localhost:8080/"
        },
        "id": "8KKrMpHvXtIo",
        "outputId": "9c4a4643-3ec3-484c-9c9b-ff34d9d862b9"
      },
      "execution_count": 13,
      "outputs": [
        {
          "output_type": "execute_result",
          "data": {
            "text/plain": [
              "[RelationRecord(items=frozenset({'22423'}), support=0.08386100386100385, ordered_statistics=[OrderedStatistic(items_base=frozenset(), items_add=frozenset({'22423'}), confidence=0.08386100386100385, lift=1.0)]),\n",
              " RelationRecord(items=frozenset({'47566'}), support=0.06586872586872587, ordered_statistics=[OrderedStatistic(items_base=frozenset(), items_add=frozenset({'47566'}), confidence=0.06586872586872587, lift=1.0)]),\n",
              " RelationRecord(items=frozenset({'85099B'}), support=0.08243243243243244, ordered_statistics=[OrderedStatistic(items_base=frozenset(), items_add=frozenset({'85099B'}), confidence=0.08243243243243244, lift=1.0)]),\n",
              " RelationRecord(items=frozenset({'85123A'}), support=0.08671814671814672, ordered_statistics=[OrderedStatistic(items_base=frozenset(), items_add=frozenset({'85123A'}), confidence=0.08671814671814672, lift=1.0)])]"
            ]
          },
          "metadata": {},
          "execution_count": 13
        }
      ]
    },
    {
      "cell_type": "code",
      "metadata": {
        "colab": {
          "base_uri": "https://localhost:8080/"
        },
        "id": "Uwysx9eLtg7H",
        "outputId": "3e4d0cae-9880-4e2b-b1dd-386a54be8fe7"
      },
      "source": [
        "frequentItemsets = list(apriori(transactions,min_support = 0.065))\n",
        "frequentItemsets"
      ],
      "execution_count": 14,
      "outputs": [
        {
          "output_type": "execute_result",
          "data": {
            "text/plain": [
              "[RelationRecord(items=frozenset({'22423'}), support=0.08386100386100385, ordered_statistics=[OrderedStatistic(items_base=frozenset(), items_add=frozenset({'22423'}), confidence=0.08386100386100385, lift=1.0)]),\n",
              " RelationRecord(items=frozenset({'47566'}), support=0.06586872586872587, ordered_statistics=[OrderedStatistic(items_base=frozenset(), items_add=frozenset({'47566'}), confidence=0.06586872586872587, lift=1.0)]),\n",
              " RelationRecord(items=frozenset({'85099B'}), support=0.08243243243243244, ordered_statistics=[OrderedStatistic(items_base=frozenset(), items_add=frozenset({'85099B'}), confidence=0.08243243243243244, lift=1.0)]),\n",
              " RelationRecord(items=frozenset({'85123A'}), support=0.08671814671814672, ordered_statistics=[OrderedStatistic(items_base=frozenset(), items_add=frozenset({'85123A'}), confidence=0.08671814671814672, lift=1.0)])]"
            ]
          },
          "metadata": {},
          "execution_count": 14
        }
      ]
    },
    {
      "cell_type": "code",
      "metadata": {
        "id": "Cy62VyRYubh1",
        "colab": {
          "base_uri": "https://localhost:8080/"
        },
        "outputId": "cdb11f94-578d-4ad6-c53d-47afc63c12aa"
      },
      "source": [
        "len(frequentItemsets)"
      ],
      "execution_count": 15,
      "outputs": [
        {
          "output_type": "execute_result",
          "data": {
            "text/plain": [
              "4"
            ]
          },
          "metadata": {},
          "execution_count": 15
        }
      ]
    },
    {
      "cell_type": "code",
      "source": [
        "frequentItemsets[0][0]"
      ],
      "metadata": {
        "colab": {
          "base_uri": "https://localhost:8080/"
        },
        "id": "3M3G6dL2YhJt",
        "outputId": "7b07f259-4587-40bc-a196-a76b3143b639"
      },
      "execution_count": 16,
      "outputs": [
        {
          "output_type": "execute_result",
          "data": {
            "text/plain": [
              "frozenset({'22423'})"
            ]
          },
          "metadata": {},
          "execution_count": 16
        }
      ]
    },
    {
      "cell_type": "code",
      "source": [
        "dir(frequentItemsets[0][0])"
      ],
      "metadata": {
        "colab": {
          "base_uri": "https://localhost:8080/"
        },
        "id": "v_gWFx47Y4Wo",
        "outputId": "5993bdfa-68bb-4648-a0da-cc092ac13ff8"
      },
      "execution_count": 17,
      "outputs": [
        {
          "output_type": "execute_result",
          "data": {
            "text/plain": [
              "['__and__',\n",
              " '__class__',\n",
              " '__class_getitem__',\n",
              " '__contains__',\n",
              " '__delattr__',\n",
              " '__dir__',\n",
              " '__doc__',\n",
              " '__eq__',\n",
              " '__format__',\n",
              " '__ge__',\n",
              " '__getattribute__',\n",
              " '__gt__',\n",
              " '__hash__',\n",
              " '__init__',\n",
              " '__init_subclass__',\n",
              " '__iter__',\n",
              " '__le__',\n",
              " '__len__',\n",
              " '__lt__',\n",
              " '__ne__',\n",
              " '__new__',\n",
              " '__or__',\n",
              " '__rand__',\n",
              " '__reduce__',\n",
              " '__reduce_ex__',\n",
              " '__repr__',\n",
              " '__ror__',\n",
              " '__rsub__',\n",
              " '__rxor__',\n",
              " '__setattr__',\n",
              " '__sizeof__',\n",
              " '__str__',\n",
              " '__sub__',\n",
              " '__subclasshook__',\n",
              " '__xor__',\n",
              " 'copy',\n",
              " 'difference',\n",
              " 'intersection',\n",
              " 'isdisjoint',\n",
              " 'issubset',\n",
              " 'issuperset',\n",
              " 'symmetric_difference',\n",
              " 'union']"
            ]
          },
          "metadata": {},
          "execution_count": 17
        }
      ]
    },
    {
      "cell_type": "code",
      "source": [
        "frequentItemsets[0][0].__len__()"
      ],
      "metadata": {
        "colab": {
          "base_uri": "https://localhost:8080/"
        },
        "id": "F4nmYqomZg_L",
        "outputId": "40b9f43b-1a0f-4d45-e635-0e04d76deae9"
      },
      "execution_count": 18,
      "outputs": [
        {
          "output_type": "execute_result",
          "data": {
            "text/plain": [
              "1"
            ]
          },
          "metadata": {},
          "execution_count": 18
        }
      ]
    },
    {
      "cell_type": "code",
      "source": [
        "min_sup = 0.03\n",
        "\n",
        "frequentItemsets = list(apriori(transactions,min_support = min_sup))\n",
        "for i in frequentItemsets:\n",
        "    if i[0].__len__()>1:\n",
        "        print('yes')\n",
        "        print(i)"
      ],
      "metadata": {
        "colab": {
          "base_uri": "https://localhost:8080/"
        },
        "id": "Nkvr2KmyZg7w",
        "outputId": "d19834e1-110a-40cd-acf0-b82b4daaa99f"
      },
      "execution_count": 19,
      "outputs": [
        {
          "output_type": "stream",
          "name": "stdout",
          "text": [
            "yes\n",
            "RelationRecord(items=frozenset({'22386', '85099B'}), support=0.03216216216216216, ordered_statistics=[OrderedStatistic(items_base=frozenset(), items_add=frozenset({'22386', '85099B'}), confidence=0.03216216216216216, lift=1.0), OrderedStatistic(items_base=frozenset({'22386'}), items_add=frozenset({'85099B'}), confidence=0.6766856214459789, lift=8.20897311262335), OrderedStatistic(items_base=frozenset({'85099B'}), items_add=frozenset({'22386'}), confidence=0.39016393442622943, lift=8.20897311262335)])\n",
            "yes\n",
            "RelationRecord(items=frozenset({'22699', '22697'}), support=0.03027027027027027, ordered_statistics=[OrderedStatistic(items_base=frozenset(), items_add=frozenset({'22699', '22697'}), confidence=0.03027027027027027, lift=1.0), OrderedStatistic(items_base=frozenset({'22697'}), items_add=frozenset({'22699'}), confidence=0.7417218543046358, lift=17.1523178807947), OrderedStatistic(items_base=frozenset({'22699'}), items_add=frozenset({'22697'}), confidence=0.7, lift=17.1523178807947)])\n"
          ]
        }
      ]
    },
    {
      "cell_type": "markdown",
      "source": [
        "RelationRecord(items=frozenset({'22386', '85099B'}), support=0.03216216216216216,\n",
        "\n",
        "ordered_statistics=[OrderedStatistic(items_base=frozenset(), items_add=frozenset({'22386', '85099B'}), confidence=0.03216216216216216, lift=1.0),\n",
        "\n",
        "OrderedStatistic(items_base=frozenset({'22386'}), items_add=frozenset({'85099B'}), confidence=0.6766856214459789, lift=8.20897311262335),\n",
        "\n",
        "OrderedStatistic(items_base=frozenset({'85099B'}), items_add=frozenset({'22386'}), confidence=0.39016393442622943, lift=8.20897311262335)])"
      ],
      "metadata": {
        "id": "hH1P1rvvaBbp"
      }
    },
    {
      "cell_type": "code",
      "source": [
        "set(data[(data['StockCode']=='22386') | (data['StockCode']=='85099B') | (data['StockCode']=='22699') | (data['StockCode']=='22697') ]['Description'])"
      ],
      "metadata": {
        "colab": {
          "base_uri": "https://localhost:8080/"
        },
        "id": "0Sqqkyy3Zgwx",
        "outputId": "a8a0181a-a683-4381-e902-056b3487e84e"
      },
      "execution_count": 20,
      "outputs": [
        {
          "output_type": "execute_result",
          "data": {
            "text/plain": [
              "{'GREEN REGENCY TEACUP AND SAUCER',\n",
              " 'JUMBO BAG PINK POLKADOT',\n",
              " 'JUMBO BAG RED RETROSPOT',\n",
              " 'ROSES REGENCY TEACUP AND SAUCER '}"
            ]
          },
          "metadata": {},
          "execution_count": 20
        }
      ]
    },
    {
      "cell_type": "markdown",
      "source": [
        "## Quiz 22386 และ 85099B คือสินค้าอะไร"
      ],
      "metadata": {
        "id": "Nf2fRhpjbIb9"
      }
    },
    {
      "cell_type": "code",
      "source": [
        "set(data[data['StockCode']=='22386' ]['Description'])"
      ],
      "metadata": {
        "colab": {
          "base_uri": "https://localhost:8080/"
        },
        "id": "AijnHasYa_gv",
        "outputId": "c6d8be77-34ad-41ab-e2e8-fc12706b3607"
      },
      "execution_count": 21,
      "outputs": [
        {
          "output_type": "execute_result",
          "data": {
            "text/plain": [
              "{'JUMBO BAG PINK POLKADOT'}"
            ]
          },
          "metadata": {},
          "execution_count": 21
        }
      ]
    },
    {
      "cell_type": "code",
      "source": [
        "set(data[data['StockCode']=='85099B' ]['Description'])"
      ],
      "metadata": {
        "colab": {
          "base_uri": "https://localhost:8080/"
        },
        "id": "1gjTW44lcHpK",
        "outputId": "1d206834-4ad0-4c23-862e-4d53bc98d7cf"
      },
      "execution_count": 22,
      "outputs": [
        {
          "output_type": "execute_result",
          "data": {
            "text/plain": [
              "{'JUMBO BAG RED RETROSPOT'}"
            ]
          },
          "metadata": {},
          "execution_count": 22
        }
      ]
    },
    {
      "cell_type": "markdown",
      "source": [
        "RelationRecord(items=frozenset({'22699', '22697'}), support=0.03027027027027027,\n",
        "\n",
        "ordered_statistics=[OrderedStatistic(items_base=frozenset(), items_add=frozenset({'22699', '22697'}), confidence=0.03027027027027027, lift=1.0),\n",
        "\n",
        "OrderedStatistic(items_base=frozenset({'22697'}), items_add=frozenset({'22699'}), confidence=0.7417218543046358, lift=17.1523178807947),\n",
        "\n",
        "OrderedStatistic(items_base=frozenset({'22699'}), items_add=frozenset({'22697'}), confidence=0.7, lift=17.1523178807947)])"
      ],
      "metadata": {
        "id": "EPKk5D_QbV3y"
      }
    },
    {
      "cell_type": "markdown",
      "source": [
        "# HW 1 หา Frequent Item Set และ Association Rules\n",
        "\n",
        "* ของช่วงเวลา Christmas & New Year (1 Dec - 31 Dec)\n",
        "* ของประเทศในทวีป Europe\n",
        "* ของช่วงเวลา ตรุษจีน ในทวีป Asia (15 Jan - 15 Feb)\n",
        "* ของช่วงเวลา Christmas & New Year ในทวีป Europe (1 Dec - 31 Dec)\n",
        "* ของวันวาเลนไทน์\n",
        "* โดยจัดกลุ่มตามประเทศ+เดือน\n",
        "\n",
        "สั่งวันที 3 มกราคม 2567\n",
        "ส่งก่อน วันจันทร์หน้า"
      ],
      "metadata": {
        "id": "IjjW9maQcS8Z"
      }
    },
    {
      "cell_type": "markdown",
      "source": [
        "### Data Preparation"
      ],
      "metadata": {
        "id": "fDmEdUS5kEgJ"
      }
    },
    {
      "cell_type": "markdown",
      "source": [
        "####แยก เดือน/วัน/ปี ออกจาก เวลา\n",
        "Data Preparation คือ การแปลง(Transform)ข้อมูลให้อยู่ในรูปแบบที่เหมาะสม"
      ],
      "metadata": {
        "id": "IsLtYcw2jpkJ"
      }
    },
    {
      "cell_type": "code",
      "source": [
        "data['InvoiceDate'][0].split()[0]"
      ],
      "metadata": {
        "colab": {
          "base_uri": "https://localhost:8080/",
          "height": 35
        },
        "id": "S4gFhMcHldX9",
        "outputId": "804d9319-bd8c-4289-af07-540047ccbb1c"
      },
      "execution_count": 23,
      "outputs": [
        {
          "output_type": "execute_result",
          "data": {
            "text/plain": [
              "'12/01/2010'"
            ],
            "application/vnd.google.colaboratory.intrinsic+json": {
              "type": "string"
            }
          },
          "metadata": {},
          "execution_count": 23
        }
      ]
    },
    {
      "cell_type": "code",
      "source": [
        "date = []\n",
        "for i in range(len(data['InvoiceDate'])):\n",
        "  x = data['InvoiceDate'][i].split()[0]\n",
        "  date.append(x)\n",
        "#set(L)"
      ],
      "metadata": {
        "id": "rSdiqfUllc4t"
      },
      "execution_count": 24,
      "outputs": []
    },
    {
      "cell_type": "markdown",
      "source": [
        "#### แยก เดือน/วัน/ปี ออกจากกัน"
      ],
      "metadata": {
        "id": "u4btUpPXAbvP"
      }
    },
    {
      "cell_type": "code",
      "source": [
        "day =[]\n",
        "month =[]\n",
        "year =[]\n",
        "for i in range(len(data['InvoiceDate'])):\n",
        "  x = date[i].split('/')[0]\n",
        "  y = date[i].split('/')[1]\n",
        "  z = date[i].split('/')[2]\n",
        "  month.append(x)\n",
        "  day.append(y)\n",
        "  year.append(z)"
      ],
      "metadata": {
        "id": "HqD1ZzjznjGy"
      },
      "execution_count": 25,
      "outputs": []
    },
    {
      "cell_type": "code",
      "source": [
        "# Test\n",
        "date[0].split('/')"
      ],
      "metadata": {
        "colab": {
          "base_uri": "https://localhost:8080/"
        },
        "id": "bZv7kRQFmAOJ",
        "outputId": "9768cbc4-514a-4ca6-fc9e-ffa5a9556d7e"
      },
      "execution_count": 26,
      "outputs": [
        {
          "output_type": "execute_result",
          "data": {
            "text/plain": [
              "['12', '01', '2010']"
            ]
          },
          "metadata": {},
          "execution_count": 26
        }
      ]
    },
    {
      "cell_type": "markdown",
      "source": [
        "#### นำ Data ที่ผ่านการแปลงแล้วไปใช้\n"
      ],
      "metadata": {
        "id": "qyvdHY5Epbhl"
      }
    },
    {
      "cell_type": "code",
      "source": [
        "data_test_nonclean = data"
      ],
      "metadata": {
        "id": "KjnzsD3Rpx9l"
      },
      "execution_count": 27,
      "outputs": []
    },
    {
      "cell_type": "code",
      "source": [
        "data_test_nonclean['date'] = date\n",
        "data_test_nonclean['day'] = day\n",
        "data_test_nonclean['month'] = month\n",
        "data_test_nonclean['year'] = year\n",
        "\n",
        "# data_test_nonclean >>> ข้อมูลยังไม่อยู่ในมาตรฐานเดียวกัน"
      ],
      "metadata": {
        "id": "NEwM7xXArAvA"
      },
      "execution_count": 28,
      "outputs": []
    },
    {
      "cell_type": "code",
      "source": [
        "set(data_test_nonclean['date'])"
      ],
      "metadata": {
        "colab": {
          "base_uri": "https://localhost:8080/"
        },
        "id": "ML5bSaGergVt",
        "outputId": "71db1c6b-fca0-4d2f-cd2c-70ab64bb6f12"
      },
      "execution_count": 29,
      "outputs": [
        {
          "output_type": "execute_result",
          "data": {
            "text/plain": [
              "{'01/04/2011',\n",
              " '01/05/2011',\n",
              " '01/06/2011',\n",
              " '01/07/2011',\n",
              " '01/09/2011',\n",
              " '01/10/2011',\n",
              " '01/11/2011',\n",
              " '01/12/2011',\n",
              " '02/01/2011',\n",
              " '02/02/2011',\n",
              " '02/03/2011',\n",
              " '02/04/2011',\n",
              " '02/06/2011',\n",
              " '02/07/2011',\n",
              " '02/08/2011',\n",
              " '02/09/2011',\n",
              " '02/10/2011',\n",
              " '02/11/2011',\n",
              " '03/01/2011',\n",
              " '03/02/2011',\n",
              " '03/03/2011',\n",
              " '03/04/2011',\n",
              " '03/06/2011',\n",
              " '03/07/2011',\n",
              " '03/08/2011',\n",
              " '03/09/2011',\n",
              " '03/10/2011',\n",
              " '03/11/2011',\n",
              " '04/01/2011',\n",
              " '04/03/2011',\n",
              " '04/04/2011',\n",
              " '04/05/2011',\n",
              " '04/06/2011',\n",
              " '04/07/2011',\n",
              " '04/08/2011',\n",
              " '04/10/2011',\n",
              " '04/11/2011',\n",
              " '04/12/2011',\n",
              " '05/01/2011',\n",
              " '05/03/2011',\n",
              " '05/04/2011',\n",
              " '05/05/2011',\n",
              " '05/06/2011',\n",
              " '05/08/2011',\n",
              " '05/09/2011',\n",
              " '05/10/2011',\n",
              " '05/11/2011',\n",
              " '05/12/2011',\n",
              " '06/01/2011',\n",
              " '06/02/2011',\n",
              " '06/03/2011',\n",
              " '06/05/2011',\n",
              " '06/06/2011',\n",
              " '06/07/2011',\n",
              " '06/08/2011',\n",
              " '06/09/2011',\n",
              " '06/10/2011',\n",
              " '06/12/2011',\n",
              " '07/01/2011',\n",
              " '07/03/2011',\n",
              " '07/04/2011',\n",
              " '07/05/2011',\n",
              " '07/06/2011',\n",
              " '07/07/2011',\n",
              " '07/08/2011',\n",
              " '07/10/2011',\n",
              " '07/11/2011',\n",
              " '07/12/2011',\n",
              " '08/01/2011',\n",
              " '08/02/2011',\n",
              " '08/03/2011',\n",
              " '08/04/2011',\n",
              " '08/05/2011',\n",
              " '08/07/2011',\n",
              " '08/08/2011',\n",
              " '08/09/2011',\n",
              " '08/10/2011',\n",
              " '08/11/2011',\n",
              " '08/12/2011',\n",
              " '09/01/2011',\n",
              " '09/02/2011',\n",
              " '09/04/2011',\n",
              " '09/05/2011',\n",
              " '09/06/2011',\n",
              " '09/07/2011',\n",
              " '09/08/2011',\n",
              " '09/09/2011',\n",
              " '09/11/2011',\n",
              " '09/12/2011',\n",
              " '1/13/2011',\n",
              " '1/14/2011',\n",
              " '1/16/2011',\n",
              " '1/17/2011',\n",
              " '1/18/2011',\n",
              " '1/19/2011',\n",
              " '1/20/2011',\n",
              " '1/21/2011',\n",
              " '1/23/2011',\n",
              " '1/24/2011',\n",
              " '1/25/2011',\n",
              " '1/26/2011',\n",
              " '1/27/2011',\n",
              " '1/28/2011',\n",
              " '1/30/2011',\n",
              " '1/31/2011',\n",
              " '10/02/2011',\n",
              " '10/03/2011',\n",
              " '10/04/2011',\n",
              " '10/05/2011',\n",
              " '10/06/2011',\n",
              " '10/07/2011',\n",
              " '10/09/2011',\n",
              " '10/10/2011',\n",
              " '10/11/2011',\n",
              " '10/12/2011',\n",
              " '10/13/2011',\n",
              " '10/14/2011',\n",
              " '10/16/2011',\n",
              " '10/17/2011',\n",
              " '10/18/2011',\n",
              " '10/19/2011',\n",
              " '10/20/2011',\n",
              " '10/21/2011',\n",
              " '10/23/2011',\n",
              " '10/24/2011',\n",
              " '10/25/2011',\n",
              " '10/26/2011',\n",
              " '10/27/2011',\n",
              " '10/28/2011',\n",
              " '10/30/2011',\n",
              " '10/31/2011',\n",
              " '11/01/2011',\n",
              " '11/02/2011',\n",
              " '11/03/2011',\n",
              " '11/04/2011',\n",
              " '11/06/2011',\n",
              " '11/07/2011',\n",
              " '11/08/2011',\n",
              " '11/09/2011',\n",
              " '11/10/2011',\n",
              " '11/11/2011',\n",
              " '11/13/2011',\n",
              " '11/14/2011',\n",
              " '11/15/2011',\n",
              " '11/16/2011',\n",
              " '11/17/2011',\n",
              " '11/18/2011',\n",
              " '11/20/2011',\n",
              " '11/21/2011',\n",
              " '11/22/2011',\n",
              " '11/23/2011',\n",
              " '11/24/2011',\n",
              " '11/25/2011',\n",
              " '11/27/2011',\n",
              " '11/28/2011',\n",
              " '11/29/2011',\n",
              " '11/30/2011',\n",
              " '12/01/2010',\n",
              " '12/01/2011',\n",
              " '12/02/2010',\n",
              " '12/02/2011',\n",
              " '12/03/2010',\n",
              " '12/04/2011',\n",
              " '12/05/2010',\n",
              " '12/05/2011',\n",
              " '12/06/2010',\n",
              " '12/06/2011',\n",
              " '12/07/2010',\n",
              " '12/07/2011',\n",
              " '12/08/2010',\n",
              " '12/08/2011',\n",
              " '12/09/2010',\n",
              " '12/09/2011',\n",
              " '12/10/2010',\n",
              " '12/12/2010',\n",
              " '12/13/2010',\n",
              " '12/14/2010',\n",
              " '12/15/2010',\n",
              " '12/16/2010',\n",
              " '12/17/2010',\n",
              " '12/19/2010',\n",
              " '12/20/2010',\n",
              " '12/21/2010',\n",
              " '12/22/2010',\n",
              " '12/23/2010',\n",
              " '2/13/2011',\n",
              " '2/14/2011',\n",
              " '2/15/2011',\n",
              " '2/16/2011',\n",
              " '2/17/2011',\n",
              " '2/18/2011',\n",
              " '2/20/2011',\n",
              " '2/21/2011',\n",
              " '2/22/2011',\n",
              " '2/23/2011',\n",
              " '2/24/2011',\n",
              " '2/25/2011',\n",
              " '2/27/2011',\n",
              " '2/28/2011',\n",
              " '3/13/2011',\n",
              " '3/14/2011',\n",
              " '3/15/2011',\n",
              " '3/16/2011',\n",
              " '3/17/2011',\n",
              " '3/18/2011',\n",
              " '3/20/2011',\n",
              " '3/21/2011',\n",
              " '3/22/2011',\n",
              " '3/23/2011',\n",
              " '3/24/2011',\n",
              " '3/25/2011',\n",
              " '3/27/2011',\n",
              " '3/28/2011',\n",
              " '3/29/2011',\n",
              " '3/30/2011',\n",
              " '3/31/2011',\n",
              " '4/13/2011',\n",
              " '4/14/2011',\n",
              " '4/15/2011',\n",
              " '4/17/2011',\n",
              " '4/18/2011',\n",
              " '4/19/2011',\n",
              " '4/20/2011',\n",
              " '4/21/2011',\n",
              " '4/26/2011',\n",
              " '4/27/2011',\n",
              " '4/28/2011',\n",
              " '5/13/2011',\n",
              " '5/15/2011',\n",
              " '5/16/2011',\n",
              " '5/17/2011',\n",
              " '5/18/2011',\n",
              " '5/19/2011',\n",
              " '5/20/2011',\n",
              " '5/22/2011',\n",
              " '5/23/2011',\n",
              " '5/24/2011',\n",
              " '5/25/2011',\n",
              " '5/26/2011',\n",
              " '5/27/2011',\n",
              " '5/29/2011',\n",
              " '5/31/2011',\n",
              " '6/13/2011',\n",
              " '6/14/2011',\n",
              " '6/15/2011',\n",
              " '6/16/2011',\n",
              " '6/17/2011',\n",
              " '6/19/2011',\n",
              " '6/20/2011',\n",
              " '6/21/2011',\n",
              " '6/22/2011',\n",
              " '6/23/2011',\n",
              " '6/24/2011',\n",
              " '6/26/2011',\n",
              " '6/27/2011',\n",
              " '6/28/2011',\n",
              " '6/29/2011',\n",
              " '6/30/2011',\n",
              " '7/13/2011',\n",
              " '7/14/2011',\n",
              " '7/15/2011',\n",
              " '7/17/2011',\n",
              " '7/18/2011',\n",
              " '7/19/2011',\n",
              " '7/20/2011',\n",
              " '7/21/2011',\n",
              " '7/22/2011',\n",
              " '7/24/2011',\n",
              " '7/25/2011',\n",
              " '7/26/2011',\n",
              " '7/27/2011',\n",
              " '7/28/2011',\n",
              " '7/29/2011',\n",
              " '7/31/2011',\n",
              " '8/14/2011',\n",
              " '8/15/2011',\n",
              " '8/16/2011',\n",
              " '8/17/2011',\n",
              " '8/18/2011',\n",
              " '8/19/2011',\n",
              " '8/21/2011',\n",
              " '8/22/2011',\n",
              " '8/23/2011',\n",
              " '8/24/2011',\n",
              " '8/25/2011',\n",
              " '8/26/2011',\n",
              " '8/28/2011',\n",
              " '8/30/2011',\n",
              " '8/31/2011',\n",
              " '9/13/2011',\n",
              " '9/14/2011',\n",
              " '9/15/2011',\n",
              " '9/16/2011',\n",
              " '9/18/2011',\n",
              " '9/19/2011',\n",
              " '9/20/2011',\n",
              " '9/21/2011',\n",
              " '9/22/2011',\n",
              " '9/23/2011',\n",
              " '9/25/2011',\n",
              " '9/26/2011',\n",
              " '9/27/2011',\n",
              " '9/28/2011',\n",
              " '9/29/2011',\n",
              " '9/30/2011'}"
            ]
          },
          "metadata": {},
          "execution_count": 29
        }
      ]
    },
    {
      "cell_type": "code",
      "source": [
        "set(data_test_nonclean['day'])"
      ],
      "metadata": {
        "colab": {
          "base_uri": "https://localhost:8080/"
        },
        "id": "wYi3SlT8uUAU",
        "outputId": "351d4cd0-0aa5-41db-9752-577d32913280"
      },
      "execution_count": 30,
      "outputs": [
        {
          "output_type": "execute_result",
          "data": {
            "text/plain": [
              "{'01',\n",
              " '02',\n",
              " '03',\n",
              " '04',\n",
              " '05',\n",
              " '06',\n",
              " '07',\n",
              " '08',\n",
              " '09',\n",
              " '10',\n",
              " '11',\n",
              " '12',\n",
              " '13',\n",
              " '14',\n",
              " '15',\n",
              " '16',\n",
              " '17',\n",
              " '18',\n",
              " '19',\n",
              " '20',\n",
              " '21',\n",
              " '22',\n",
              " '23',\n",
              " '24',\n",
              " '25',\n",
              " '26',\n",
              " '27',\n",
              " '28',\n",
              " '29',\n",
              " '30',\n",
              " '31'}"
            ]
          },
          "metadata": {},
          "execution_count": 30
        }
      ]
    },
    {
      "cell_type": "markdown",
      "source": [
        "#### แปลงวัน\n",
        "ให้เป็นมาตรฐานเดียวกัน"
      ],
      "metadata": {
        "id": "IfljnjVZyREc"
      }
    },
    {
      "cell_type": "markdown",
      "source": [
        "วัน เป็นมาตรฐานเดียวกันไม่ต้องแปลง"
      ],
      "metadata": {
        "id": "7BNtGCrx0W9D"
      }
    },
    {
      "cell_type": "code",
      "source": [
        "data_test_nonclean.head()"
      ],
      "metadata": {
        "colab": {
          "base_uri": "https://localhost:8080/",
          "height": 362
        },
        "id": "pYvFKOhawFCj",
        "outputId": "cb2641e6-add8-48a8-982a-cd4506d0c894"
      },
      "execution_count": 31,
      "outputs": [
        {
          "output_type": "execute_result",
          "data": {
            "text/plain": [
              "  InvoiceNo StockCode                          Description  Quantity  \\\n",
              "0    536365    85123A   WHITE HANGING HEART T-LIGHT HOLDER         6   \n",
              "1    536365     71053                  WHITE METAL LANTERN         6   \n",
              "2    536365    84406B       CREAM CUPID HEARTS COAT HANGER         8   \n",
              "3    536365    84029G  KNITTED UNION FLAG HOT WATER BOTTLE         6   \n",
              "4    536365    84029E       RED WOOLLY HOTTIE WHITE HEART.         6   \n",
              "\n",
              "        InvoiceDate  UnitPrice  CustomerID         Country        date day  \\\n",
              "0  12/01/2010 08:26       2.55     17850.0  United Kingdom  12/01/2010  01   \n",
              "1  12/01/2010 08:26       3.39     17850.0  United Kingdom  12/01/2010  01   \n",
              "2  12/01/2010 08:26       2.75     17850.0  United Kingdom  12/01/2010  01   \n",
              "3  12/01/2010 08:26       3.39     17850.0  United Kingdom  12/01/2010  01   \n",
              "4  12/01/2010 08:26       3.39     17850.0  United Kingdom  12/01/2010  01   \n",
              "\n",
              "  month  year  \n",
              "0    12  2010  \n",
              "1    12  2010  \n",
              "2    12  2010  \n",
              "3    12  2010  \n",
              "4    12  2010  "
            ],
            "text/html": [
              "\n",
              "  <div id=\"df-43c632fd-90be-470b-9885-6424f59e7fbd\" class=\"colab-df-container\">\n",
              "    <div>\n",
              "<style scoped>\n",
              "    .dataframe tbody tr th:only-of-type {\n",
              "        vertical-align: middle;\n",
              "    }\n",
              "\n",
              "    .dataframe tbody tr th {\n",
              "        vertical-align: top;\n",
              "    }\n",
              "\n",
              "    .dataframe thead th {\n",
              "        text-align: right;\n",
              "    }\n",
              "</style>\n",
              "<table border=\"1\" class=\"dataframe\">\n",
              "  <thead>\n",
              "    <tr style=\"text-align: right;\">\n",
              "      <th></th>\n",
              "      <th>InvoiceNo</th>\n",
              "      <th>StockCode</th>\n",
              "      <th>Description</th>\n",
              "      <th>Quantity</th>\n",
              "      <th>InvoiceDate</th>\n",
              "      <th>UnitPrice</th>\n",
              "      <th>CustomerID</th>\n",
              "      <th>Country</th>\n",
              "      <th>date</th>\n",
              "      <th>day</th>\n",
              "      <th>month</th>\n",
              "      <th>year</th>\n",
              "    </tr>\n",
              "  </thead>\n",
              "  <tbody>\n",
              "    <tr>\n",
              "      <th>0</th>\n",
              "      <td>536365</td>\n",
              "      <td>85123A</td>\n",
              "      <td>WHITE HANGING HEART T-LIGHT HOLDER</td>\n",
              "      <td>6</td>\n",
              "      <td>12/01/2010 08:26</td>\n",
              "      <td>2.55</td>\n",
              "      <td>17850.0</td>\n",
              "      <td>United Kingdom</td>\n",
              "      <td>12/01/2010</td>\n",
              "      <td>01</td>\n",
              "      <td>12</td>\n",
              "      <td>2010</td>\n",
              "    </tr>\n",
              "    <tr>\n",
              "      <th>1</th>\n",
              "      <td>536365</td>\n",
              "      <td>71053</td>\n",
              "      <td>WHITE METAL LANTERN</td>\n",
              "      <td>6</td>\n",
              "      <td>12/01/2010 08:26</td>\n",
              "      <td>3.39</td>\n",
              "      <td>17850.0</td>\n",
              "      <td>United Kingdom</td>\n",
              "      <td>12/01/2010</td>\n",
              "      <td>01</td>\n",
              "      <td>12</td>\n",
              "      <td>2010</td>\n",
              "    </tr>\n",
              "    <tr>\n",
              "      <th>2</th>\n",
              "      <td>536365</td>\n",
              "      <td>84406B</td>\n",
              "      <td>CREAM CUPID HEARTS COAT HANGER</td>\n",
              "      <td>8</td>\n",
              "      <td>12/01/2010 08:26</td>\n",
              "      <td>2.75</td>\n",
              "      <td>17850.0</td>\n",
              "      <td>United Kingdom</td>\n",
              "      <td>12/01/2010</td>\n",
              "      <td>01</td>\n",
              "      <td>12</td>\n",
              "      <td>2010</td>\n",
              "    </tr>\n",
              "    <tr>\n",
              "      <th>3</th>\n",
              "      <td>536365</td>\n",
              "      <td>84029G</td>\n",
              "      <td>KNITTED UNION FLAG HOT WATER BOTTLE</td>\n",
              "      <td>6</td>\n",
              "      <td>12/01/2010 08:26</td>\n",
              "      <td>3.39</td>\n",
              "      <td>17850.0</td>\n",
              "      <td>United Kingdom</td>\n",
              "      <td>12/01/2010</td>\n",
              "      <td>01</td>\n",
              "      <td>12</td>\n",
              "      <td>2010</td>\n",
              "    </tr>\n",
              "    <tr>\n",
              "      <th>4</th>\n",
              "      <td>536365</td>\n",
              "      <td>84029E</td>\n",
              "      <td>RED WOOLLY HOTTIE WHITE HEART.</td>\n",
              "      <td>6</td>\n",
              "      <td>12/01/2010 08:26</td>\n",
              "      <td>3.39</td>\n",
              "      <td>17850.0</td>\n",
              "      <td>United Kingdom</td>\n",
              "      <td>12/01/2010</td>\n",
              "      <td>01</td>\n",
              "      <td>12</td>\n",
              "      <td>2010</td>\n",
              "    </tr>\n",
              "  </tbody>\n",
              "</table>\n",
              "</div>\n",
              "    <div class=\"colab-df-buttons\">\n",
              "\n",
              "  <div class=\"colab-df-container\">\n",
              "    <button class=\"colab-df-convert\" onclick=\"convertToInteractive('df-43c632fd-90be-470b-9885-6424f59e7fbd')\"\n",
              "            title=\"Convert this dataframe to an interactive table.\"\n",
              "            style=\"display:none;\">\n",
              "\n",
              "  <svg xmlns=\"http://www.w3.org/2000/svg\" height=\"24px\" viewBox=\"0 -960 960 960\">\n",
              "    <path d=\"M120-120v-720h720v720H120Zm60-500h600v-160H180v160Zm220 220h160v-160H400v160Zm0 220h160v-160H400v160ZM180-400h160v-160H180v160Zm440 0h160v-160H620v160ZM180-180h160v-160H180v160Zm440 0h160v-160H620v160Z\"/>\n",
              "  </svg>\n",
              "    </button>\n",
              "\n",
              "  <style>\n",
              "    .colab-df-container {\n",
              "      display:flex;\n",
              "      gap: 12px;\n",
              "    }\n",
              "\n",
              "    .colab-df-convert {\n",
              "      background-color: #E8F0FE;\n",
              "      border: none;\n",
              "      border-radius: 50%;\n",
              "      cursor: pointer;\n",
              "      display: none;\n",
              "      fill: #1967D2;\n",
              "      height: 32px;\n",
              "      padding: 0 0 0 0;\n",
              "      width: 32px;\n",
              "    }\n",
              "\n",
              "    .colab-df-convert:hover {\n",
              "      background-color: #E2EBFA;\n",
              "      box-shadow: 0px 1px 2px rgba(60, 64, 67, 0.3), 0px 1px 3px 1px rgba(60, 64, 67, 0.15);\n",
              "      fill: #174EA6;\n",
              "    }\n",
              "\n",
              "    .colab-df-buttons div {\n",
              "      margin-bottom: 4px;\n",
              "    }\n",
              "\n",
              "    [theme=dark] .colab-df-convert {\n",
              "      background-color: #3B4455;\n",
              "      fill: #D2E3FC;\n",
              "    }\n",
              "\n",
              "    [theme=dark] .colab-df-convert:hover {\n",
              "      background-color: #434B5C;\n",
              "      box-shadow: 0px 1px 3px 1px rgba(0, 0, 0, 0.15);\n",
              "      filter: drop-shadow(0px 1px 2px rgba(0, 0, 0, 0.3));\n",
              "      fill: #FFFFFF;\n",
              "    }\n",
              "  </style>\n",
              "\n",
              "    <script>\n",
              "      const buttonEl =\n",
              "        document.querySelector('#df-43c632fd-90be-470b-9885-6424f59e7fbd button.colab-df-convert');\n",
              "      buttonEl.style.display =\n",
              "        google.colab.kernel.accessAllowed ? 'block' : 'none';\n",
              "\n",
              "      async function convertToInteractive(key) {\n",
              "        const element = document.querySelector('#df-43c632fd-90be-470b-9885-6424f59e7fbd');\n",
              "        const dataTable =\n",
              "          await google.colab.kernel.invokeFunction('convertToInteractive',\n",
              "                                                    [key], {});\n",
              "        if (!dataTable) return;\n",
              "\n",
              "        const docLinkHtml = 'Like what you see? Visit the ' +\n",
              "          '<a target=\"_blank\" href=https://colab.research.google.com/notebooks/data_table.ipynb>data table notebook</a>'\n",
              "          + ' to learn more about interactive tables.';\n",
              "        element.innerHTML = '';\n",
              "        dataTable['output_type'] = 'display_data';\n",
              "        await google.colab.output.renderOutput(dataTable, element);\n",
              "        const docLink = document.createElement('div');\n",
              "        docLink.innerHTML = docLinkHtml;\n",
              "        element.appendChild(docLink);\n",
              "      }\n",
              "    </script>\n",
              "  </div>\n",
              "\n",
              "\n",
              "<div id=\"df-16c3f5a2-9070-4ada-9e8f-1fe13e3b8d4e\">\n",
              "  <button class=\"colab-df-quickchart\" onclick=\"quickchart('df-16c3f5a2-9070-4ada-9e8f-1fe13e3b8d4e')\"\n",
              "            title=\"Suggest charts\"\n",
              "            style=\"display:none;\">\n",
              "\n",
              "<svg xmlns=\"http://www.w3.org/2000/svg\" height=\"24px\"viewBox=\"0 0 24 24\"\n",
              "     width=\"24px\">\n",
              "    <g>\n",
              "        <path d=\"M19 3H5c-1.1 0-2 .9-2 2v14c0 1.1.9 2 2 2h14c1.1 0 2-.9 2-2V5c0-1.1-.9-2-2-2zM9 17H7v-7h2v7zm4 0h-2V7h2v10zm4 0h-2v-4h2v4z\"/>\n",
              "    </g>\n",
              "</svg>\n",
              "  </button>\n",
              "\n",
              "<style>\n",
              "  .colab-df-quickchart {\n",
              "      --bg-color: #E8F0FE;\n",
              "      --fill-color: #1967D2;\n",
              "      --hover-bg-color: #E2EBFA;\n",
              "      --hover-fill-color: #174EA6;\n",
              "      --disabled-fill-color: #AAA;\n",
              "      --disabled-bg-color: #DDD;\n",
              "  }\n",
              "\n",
              "  [theme=dark] .colab-df-quickchart {\n",
              "      --bg-color: #3B4455;\n",
              "      --fill-color: #D2E3FC;\n",
              "      --hover-bg-color: #434B5C;\n",
              "      --hover-fill-color: #FFFFFF;\n",
              "      --disabled-bg-color: #3B4455;\n",
              "      --disabled-fill-color: #666;\n",
              "  }\n",
              "\n",
              "  .colab-df-quickchart {\n",
              "    background-color: var(--bg-color);\n",
              "    border: none;\n",
              "    border-radius: 50%;\n",
              "    cursor: pointer;\n",
              "    display: none;\n",
              "    fill: var(--fill-color);\n",
              "    height: 32px;\n",
              "    padding: 0;\n",
              "    width: 32px;\n",
              "  }\n",
              "\n",
              "  .colab-df-quickchart:hover {\n",
              "    background-color: var(--hover-bg-color);\n",
              "    box-shadow: 0 1px 2px rgba(60, 64, 67, 0.3), 0 1px 3px 1px rgba(60, 64, 67, 0.15);\n",
              "    fill: var(--button-hover-fill-color);\n",
              "  }\n",
              "\n",
              "  .colab-df-quickchart-complete:disabled,\n",
              "  .colab-df-quickchart-complete:disabled:hover {\n",
              "    background-color: var(--disabled-bg-color);\n",
              "    fill: var(--disabled-fill-color);\n",
              "    box-shadow: none;\n",
              "  }\n",
              "\n",
              "  .colab-df-spinner {\n",
              "    border: 2px solid var(--fill-color);\n",
              "    border-color: transparent;\n",
              "    border-bottom-color: var(--fill-color);\n",
              "    animation:\n",
              "      spin 1s steps(1) infinite;\n",
              "  }\n",
              "\n",
              "  @keyframes spin {\n",
              "    0% {\n",
              "      border-color: transparent;\n",
              "      border-bottom-color: var(--fill-color);\n",
              "      border-left-color: var(--fill-color);\n",
              "    }\n",
              "    20% {\n",
              "      border-color: transparent;\n",
              "      border-left-color: var(--fill-color);\n",
              "      border-top-color: var(--fill-color);\n",
              "    }\n",
              "    30% {\n",
              "      border-color: transparent;\n",
              "      border-left-color: var(--fill-color);\n",
              "      border-top-color: var(--fill-color);\n",
              "      border-right-color: var(--fill-color);\n",
              "    }\n",
              "    40% {\n",
              "      border-color: transparent;\n",
              "      border-right-color: var(--fill-color);\n",
              "      border-top-color: var(--fill-color);\n",
              "    }\n",
              "    60% {\n",
              "      border-color: transparent;\n",
              "      border-right-color: var(--fill-color);\n",
              "    }\n",
              "    80% {\n",
              "      border-color: transparent;\n",
              "      border-right-color: var(--fill-color);\n",
              "      border-bottom-color: var(--fill-color);\n",
              "    }\n",
              "    90% {\n",
              "      border-color: transparent;\n",
              "      border-bottom-color: var(--fill-color);\n",
              "    }\n",
              "  }\n",
              "</style>\n",
              "\n",
              "  <script>\n",
              "    async function quickchart(key) {\n",
              "      const quickchartButtonEl =\n",
              "        document.querySelector('#' + key + ' button');\n",
              "      quickchartButtonEl.disabled = true;  // To prevent multiple clicks.\n",
              "      quickchartButtonEl.classList.add('colab-df-spinner');\n",
              "      try {\n",
              "        const charts = await google.colab.kernel.invokeFunction(\n",
              "            'suggestCharts', [key], {});\n",
              "      } catch (error) {\n",
              "        console.error('Error during call to suggestCharts:', error);\n",
              "      }\n",
              "      quickchartButtonEl.classList.remove('colab-df-spinner');\n",
              "      quickchartButtonEl.classList.add('colab-df-quickchart-complete');\n",
              "    }\n",
              "    (() => {\n",
              "      let quickchartButtonEl =\n",
              "        document.querySelector('#df-16c3f5a2-9070-4ada-9e8f-1fe13e3b8d4e button');\n",
              "      quickchartButtonEl.style.display =\n",
              "        google.colab.kernel.accessAllowed ? 'block' : 'none';\n",
              "    })();\n",
              "  </script>\n",
              "</div>\n",
              "    </div>\n",
              "  </div>\n"
            ]
          },
          "metadata": {},
          "execution_count": 31
        }
      ]
    },
    {
      "cell_type": "markdown",
      "source": [
        "#### แปลงเดือน\n",
        " ให้เป็นมาตรฐานเดียวกัน"
      ],
      "metadata": {
        "id": "UjJQwENCxpRX"
      }
    },
    {
      "cell_type": "code",
      "source": [
        "set(data_test_nonclean['month'])"
      ],
      "metadata": {
        "colab": {
          "base_uri": "https://localhost:8080/"
        },
        "id": "lOl7a7hNwiov",
        "outputId": "697465fb-87ec-4b2e-a863-e3c182347590"
      },
      "execution_count": 32,
      "outputs": [
        {
          "output_type": "execute_result",
          "data": {
            "text/plain": [
              "{'01',\n",
              " '02',\n",
              " '03',\n",
              " '04',\n",
              " '05',\n",
              " '06',\n",
              " '07',\n",
              " '08',\n",
              " '09',\n",
              " '1',\n",
              " '10',\n",
              " '11',\n",
              " '12',\n",
              " '2',\n",
              " '3',\n",
              " '4',\n",
              " '5',\n",
              " '6',\n",
              " '7',\n",
              " '8',\n",
              " '9'}"
            ]
          },
          "metadata": {},
          "execution_count": 32
        }
      ]
    },
    {
      "cell_type": "code",
      "source": [
        "data_test = data_test_nonclean.replace(to_replace=['1', '2','3','4','5','6','7','8','9','10','11','12'],value=[1,2,3,4,5,6,7,8,9,10,11,12])"
      ],
      "metadata": {
        "id": "e6JYtqWe1SH0"
      },
      "execution_count": 33,
      "outputs": []
    },
    {
      "cell_type": "code",
      "source": [
        "data_test.isnull().any()"
      ],
      "metadata": {
        "colab": {
          "base_uri": "https://localhost:8080/"
        },
        "id": "5DfmQm3e2rc2",
        "outputId": "db60d35f-2a50-4460-feb1-22b6952a7bc9"
      },
      "execution_count": 34,
      "outputs": [
        {
          "output_type": "execute_result",
          "data": {
            "text/plain": [
              "InvoiceNo      False\n",
              "StockCode      False\n",
              "Description     True\n",
              "Quantity       False\n",
              "InvoiceDate    False\n",
              "UnitPrice      False\n",
              "CustomerID      True\n",
              "Country        False\n",
              "date           False\n",
              "day            False\n",
              "month          False\n",
              "year           False\n",
              "dtype: bool"
            ]
          },
          "metadata": {},
          "execution_count": 34
        }
      ]
    },
    {
      "cell_type": "code",
      "source": [
        "data_test_nonclean[data_test_nonclean['month']=='01']"
      ],
      "metadata": {
        "colab": {
          "base_uri": "https://localhost:8080/",
          "height": 684
        },
        "id": "nrxlJlFD7p5b",
        "outputId": "54a4c8a5-618f-4d53-db85-4b676b6c0000"
      },
      "execution_count": 35,
      "outputs": [
        {
          "output_type": "execute_result",
          "data": {
            "text/plain": [
              "      InvoiceNo StockCode                Description  Quantity  \\\n",
              "42481    539993     22386    JUMBO BAG PINK POLKADOT        10   \n",
              "42482    539993     21499         BLUE POLKADOT WRAP        25   \n",
              "42483    539993     21498        RED RETROSPOT WRAP         25   \n",
              "42484    539993     22379   RECYCLING BAG RETROSPOT          5   \n",
              "42485    539993     20718  RED RETROSPOT SHOPPER BAG        10   \n",
              "...         ...       ...                        ...       ...   \n",
              "55385    540992     21912   VINTAGE SNAKES & LADDERS         2   \n",
              "55386    540992     51008   AFGHAN SLIPPER SOCK PAIR        10   \n",
              "55387    540992     21508    VINTAGE KID DOLLY CARD         12   \n",
              "55388    540992     22716         CARD CIRCUS PARADE        12   \n",
              "55389    540992     22983        CARD BILLBOARD FONT        12   \n",
              "\n",
              "            InvoiceDate  UnitPrice  CustomerID         Country        date  \\\n",
              "42481  01/04/2011 10:00       1.95     13313.0  United Kingdom  01/04/2011   \n",
              "42482  01/04/2011 10:00       0.42     13313.0  United Kingdom  01/04/2011   \n",
              "42483  01/04/2011 10:00       0.42     13313.0  United Kingdom  01/04/2011   \n",
              "42484  01/04/2011 10:00       2.10     13313.0  United Kingdom  01/04/2011   \n",
              "42485  01/04/2011 10:00       1.25     13313.0  United Kingdom  01/04/2011   \n",
              "...                 ...        ...         ...             ...         ...   \n",
              "55385  01/12/2011 16:57       3.75     17364.0  United Kingdom  01/12/2011   \n",
              "55386  01/12/2011 16:57       3.45     17364.0  United Kingdom  01/12/2011   \n",
              "55387  01/12/2011 16:57       0.42     17364.0  United Kingdom  01/12/2011   \n",
              "55388  01/12/2011 16:57       0.42     17364.0  United Kingdom  01/12/2011   \n",
              "55389  01/12/2011 16:57       0.42     17364.0  United Kingdom  01/12/2011   \n",
              "\n",
              "      day month  year  \n",
              "42481  04    01  2011  \n",
              "42482  04    01  2011  \n",
              "42483  04    01  2011  \n",
              "42484  04    01  2011  \n",
              "42485  04    01  2011  \n",
              "...    ..   ...   ...  \n",
              "55385  12    01  2011  \n",
              "55386  12    01  2011  \n",
              "55387  12    01  2011  \n",
              "55388  12    01  2011  \n",
              "55389  12    01  2011  \n",
              "\n",
              "[12909 rows x 12 columns]"
            ],
            "text/html": [
              "\n",
              "  <div id=\"df-1778a623-31b3-46fd-bbd2-a113dd56887e\" class=\"colab-df-container\">\n",
              "    <div>\n",
              "<style scoped>\n",
              "    .dataframe tbody tr th:only-of-type {\n",
              "        vertical-align: middle;\n",
              "    }\n",
              "\n",
              "    .dataframe tbody tr th {\n",
              "        vertical-align: top;\n",
              "    }\n",
              "\n",
              "    .dataframe thead th {\n",
              "        text-align: right;\n",
              "    }\n",
              "</style>\n",
              "<table border=\"1\" class=\"dataframe\">\n",
              "  <thead>\n",
              "    <tr style=\"text-align: right;\">\n",
              "      <th></th>\n",
              "      <th>InvoiceNo</th>\n",
              "      <th>StockCode</th>\n",
              "      <th>Description</th>\n",
              "      <th>Quantity</th>\n",
              "      <th>InvoiceDate</th>\n",
              "      <th>UnitPrice</th>\n",
              "      <th>CustomerID</th>\n",
              "      <th>Country</th>\n",
              "      <th>date</th>\n",
              "      <th>day</th>\n",
              "      <th>month</th>\n",
              "      <th>year</th>\n",
              "    </tr>\n",
              "  </thead>\n",
              "  <tbody>\n",
              "    <tr>\n",
              "      <th>42481</th>\n",
              "      <td>539993</td>\n",
              "      <td>22386</td>\n",
              "      <td>JUMBO BAG PINK POLKADOT</td>\n",
              "      <td>10</td>\n",
              "      <td>01/04/2011 10:00</td>\n",
              "      <td>1.95</td>\n",
              "      <td>13313.0</td>\n",
              "      <td>United Kingdom</td>\n",
              "      <td>01/04/2011</td>\n",
              "      <td>04</td>\n",
              "      <td>01</td>\n",
              "      <td>2011</td>\n",
              "    </tr>\n",
              "    <tr>\n",
              "      <th>42482</th>\n",
              "      <td>539993</td>\n",
              "      <td>21499</td>\n",
              "      <td>BLUE POLKADOT WRAP</td>\n",
              "      <td>25</td>\n",
              "      <td>01/04/2011 10:00</td>\n",
              "      <td>0.42</td>\n",
              "      <td>13313.0</td>\n",
              "      <td>United Kingdom</td>\n",
              "      <td>01/04/2011</td>\n",
              "      <td>04</td>\n",
              "      <td>01</td>\n",
              "      <td>2011</td>\n",
              "    </tr>\n",
              "    <tr>\n",
              "      <th>42483</th>\n",
              "      <td>539993</td>\n",
              "      <td>21498</td>\n",
              "      <td>RED RETROSPOT WRAP</td>\n",
              "      <td>25</td>\n",
              "      <td>01/04/2011 10:00</td>\n",
              "      <td>0.42</td>\n",
              "      <td>13313.0</td>\n",
              "      <td>United Kingdom</td>\n",
              "      <td>01/04/2011</td>\n",
              "      <td>04</td>\n",
              "      <td>01</td>\n",
              "      <td>2011</td>\n",
              "    </tr>\n",
              "    <tr>\n",
              "      <th>42484</th>\n",
              "      <td>539993</td>\n",
              "      <td>22379</td>\n",
              "      <td>RECYCLING BAG RETROSPOT</td>\n",
              "      <td>5</td>\n",
              "      <td>01/04/2011 10:00</td>\n",
              "      <td>2.10</td>\n",
              "      <td>13313.0</td>\n",
              "      <td>United Kingdom</td>\n",
              "      <td>01/04/2011</td>\n",
              "      <td>04</td>\n",
              "      <td>01</td>\n",
              "      <td>2011</td>\n",
              "    </tr>\n",
              "    <tr>\n",
              "      <th>42485</th>\n",
              "      <td>539993</td>\n",
              "      <td>20718</td>\n",
              "      <td>RED RETROSPOT SHOPPER BAG</td>\n",
              "      <td>10</td>\n",
              "      <td>01/04/2011 10:00</td>\n",
              "      <td>1.25</td>\n",
              "      <td>13313.0</td>\n",
              "      <td>United Kingdom</td>\n",
              "      <td>01/04/2011</td>\n",
              "      <td>04</td>\n",
              "      <td>01</td>\n",
              "      <td>2011</td>\n",
              "    </tr>\n",
              "    <tr>\n",
              "      <th>...</th>\n",
              "      <td>...</td>\n",
              "      <td>...</td>\n",
              "      <td>...</td>\n",
              "      <td>...</td>\n",
              "      <td>...</td>\n",
              "      <td>...</td>\n",
              "      <td>...</td>\n",
              "      <td>...</td>\n",
              "      <td>...</td>\n",
              "      <td>...</td>\n",
              "      <td>...</td>\n",
              "      <td>...</td>\n",
              "    </tr>\n",
              "    <tr>\n",
              "      <th>55385</th>\n",
              "      <td>540992</td>\n",
              "      <td>21912</td>\n",
              "      <td>VINTAGE SNAKES &amp; LADDERS</td>\n",
              "      <td>2</td>\n",
              "      <td>01/12/2011 16:57</td>\n",
              "      <td>3.75</td>\n",
              "      <td>17364.0</td>\n",
              "      <td>United Kingdom</td>\n",
              "      <td>01/12/2011</td>\n",
              "      <td>12</td>\n",
              "      <td>01</td>\n",
              "      <td>2011</td>\n",
              "    </tr>\n",
              "    <tr>\n",
              "      <th>55386</th>\n",
              "      <td>540992</td>\n",
              "      <td>51008</td>\n",
              "      <td>AFGHAN SLIPPER SOCK PAIR</td>\n",
              "      <td>10</td>\n",
              "      <td>01/12/2011 16:57</td>\n",
              "      <td>3.45</td>\n",
              "      <td>17364.0</td>\n",
              "      <td>United Kingdom</td>\n",
              "      <td>01/12/2011</td>\n",
              "      <td>12</td>\n",
              "      <td>01</td>\n",
              "      <td>2011</td>\n",
              "    </tr>\n",
              "    <tr>\n",
              "      <th>55387</th>\n",
              "      <td>540992</td>\n",
              "      <td>21508</td>\n",
              "      <td>VINTAGE KID DOLLY CARD</td>\n",
              "      <td>12</td>\n",
              "      <td>01/12/2011 16:57</td>\n",
              "      <td>0.42</td>\n",
              "      <td>17364.0</td>\n",
              "      <td>United Kingdom</td>\n",
              "      <td>01/12/2011</td>\n",
              "      <td>12</td>\n",
              "      <td>01</td>\n",
              "      <td>2011</td>\n",
              "    </tr>\n",
              "    <tr>\n",
              "      <th>55388</th>\n",
              "      <td>540992</td>\n",
              "      <td>22716</td>\n",
              "      <td>CARD CIRCUS PARADE</td>\n",
              "      <td>12</td>\n",
              "      <td>01/12/2011 16:57</td>\n",
              "      <td>0.42</td>\n",
              "      <td>17364.0</td>\n",
              "      <td>United Kingdom</td>\n",
              "      <td>01/12/2011</td>\n",
              "      <td>12</td>\n",
              "      <td>01</td>\n",
              "      <td>2011</td>\n",
              "    </tr>\n",
              "    <tr>\n",
              "      <th>55389</th>\n",
              "      <td>540992</td>\n",
              "      <td>22983</td>\n",
              "      <td>CARD BILLBOARD FONT</td>\n",
              "      <td>12</td>\n",
              "      <td>01/12/2011 16:57</td>\n",
              "      <td>0.42</td>\n",
              "      <td>17364.0</td>\n",
              "      <td>United Kingdom</td>\n",
              "      <td>01/12/2011</td>\n",
              "      <td>12</td>\n",
              "      <td>01</td>\n",
              "      <td>2011</td>\n",
              "    </tr>\n",
              "  </tbody>\n",
              "</table>\n",
              "<p>12909 rows × 12 columns</p>\n",
              "</div>\n",
              "    <div class=\"colab-df-buttons\">\n",
              "\n",
              "  <div class=\"colab-df-container\">\n",
              "    <button class=\"colab-df-convert\" onclick=\"convertToInteractive('df-1778a623-31b3-46fd-bbd2-a113dd56887e')\"\n",
              "            title=\"Convert this dataframe to an interactive table.\"\n",
              "            style=\"display:none;\">\n",
              "\n",
              "  <svg xmlns=\"http://www.w3.org/2000/svg\" height=\"24px\" viewBox=\"0 -960 960 960\">\n",
              "    <path d=\"M120-120v-720h720v720H120Zm60-500h600v-160H180v160Zm220 220h160v-160H400v160Zm0 220h160v-160H400v160ZM180-400h160v-160H180v160Zm440 0h160v-160H620v160ZM180-180h160v-160H180v160Zm440 0h160v-160H620v160Z\"/>\n",
              "  </svg>\n",
              "    </button>\n",
              "\n",
              "  <style>\n",
              "    .colab-df-container {\n",
              "      display:flex;\n",
              "      gap: 12px;\n",
              "    }\n",
              "\n",
              "    .colab-df-convert {\n",
              "      background-color: #E8F0FE;\n",
              "      border: none;\n",
              "      border-radius: 50%;\n",
              "      cursor: pointer;\n",
              "      display: none;\n",
              "      fill: #1967D2;\n",
              "      height: 32px;\n",
              "      padding: 0 0 0 0;\n",
              "      width: 32px;\n",
              "    }\n",
              "\n",
              "    .colab-df-convert:hover {\n",
              "      background-color: #E2EBFA;\n",
              "      box-shadow: 0px 1px 2px rgba(60, 64, 67, 0.3), 0px 1px 3px 1px rgba(60, 64, 67, 0.15);\n",
              "      fill: #174EA6;\n",
              "    }\n",
              "\n",
              "    .colab-df-buttons div {\n",
              "      margin-bottom: 4px;\n",
              "    }\n",
              "\n",
              "    [theme=dark] .colab-df-convert {\n",
              "      background-color: #3B4455;\n",
              "      fill: #D2E3FC;\n",
              "    }\n",
              "\n",
              "    [theme=dark] .colab-df-convert:hover {\n",
              "      background-color: #434B5C;\n",
              "      box-shadow: 0px 1px 3px 1px rgba(0, 0, 0, 0.15);\n",
              "      filter: drop-shadow(0px 1px 2px rgba(0, 0, 0, 0.3));\n",
              "      fill: #FFFFFF;\n",
              "    }\n",
              "  </style>\n",
              "\n",
              "    <script>\n",
              "      const buttonEl =\n",
              "        document.querySelector('#df-1778a623-31b3-46fd-bbd2-a113dd56887e button.colab-df-convert');\n",
              "      buttonEl.style.display =\n",
              "        google.colab.kernel.accessAllowed ? 'block' : 'none';\n",
              "\n",
              "      async function convertToInteractive(key) {\n",
              "        const element = document.querySelector('#df-1778a623-31b3-46fd-bbd2-a113dd56887e');\n",
              "        const dataTable =\n",
              "          await google.colab.kernel.invokeFunction('convertToInteractive',\n",
              "                                                    [key], {});\n",
              "        if (!dataTable) return;\n",
              "\n",
              "        const docLinkHtml = 'Like what you see? Visit the ' +\n",
              "          '<a target=\"_blank\" href=https://colab.research.google.com/notebooks/data_table.ipynb>data table notebook</a>'\n",
              "          + ' to learn more about interactive tables.';\n",
              "        element.innerHTML = '';\n",
              "        dataTable['output_type'] = 'display_data';\n",
              "        await google.colab.output.renderOutput(dataTable, element);\n",
              "        const docLink = document.createElement('div');\n",
              "        docLink.innerHTML = docLinkHtml;\n",
              "        element.appendChild(docLink);\n",
              "      }\n",
              "    </script>\n",
              "  </div>\n",
              "\n",
              "\n",
              "<div id=\"df-3be3aac1-23d2-4d88-90a1-52d42073710c\">\n",
              "  <button class=\"colab-df-quickchart\" onclick=\"quickchart('df-3be3aac1-23d2-4d88-90a1-52d42073710c')\"\n",
              "            title=\"Suggest charts\"\n",
              "            style=\"display:none;\">\n",
              "\n",
              "<svg xmlns=\"http://www.w3.org/2000/svg\" height=\"24px\"viewBox=\"0 0 24 24\"\n",
              "     width=\"24px\">\n",
              "    <g>\n",
              "        <path d=\"M19 3H5c-1.1 0-2 .9-2 2v14c0 1.1.9 2 2 2h14c1.1 0 2-.9 2-2V5c0-1.1-.9-2-2-2zM9 17H7v-7h2v7zm4 0h-2V7h2v10zm4 0h-2v-4h2v4z\"/>\n",
              "    </g>\n",
              "</svg>\n",
              "  </button>\n",
              "\n",
              "<style>\n",
              "  .colab-df-quickchart {\n",
              "      --bg-color: #E8F0FE;\n",
              "      --fill-color: #1967D2;\n",
              "      --hover-bg-color: #E2EBFA;\n",
              "      --hover-fill-color: #174EA6;\n",
              "      --disabled-fill-color: #AAA;\n",
              "      --disabled-bg-color: #DDD;\n",
              "  }\n",
              "\n",
              "  [theme=dark] .colab-df-quickchart {\n",
              "      --bg-color: #3B4455;\n",
              "      --fill-color: #D2E3FC;\n",
              "      --hover-bg-color: #434B5C;\n",
              "      --hover-fill-color: #FFFFFF;\n",
              "      --disabled-bg-color: #3B4455;\n",
              "      --disabled-fill-color: #666;\n",
              "  }\n",
              "\n",
              "  .colab-df-quickchart {\n",
              "    background-color: var(--bg-color);\n",
              "    border: none;\n",
              "    border-radius: 50%;\n",
              "    cursor: pointer;\n",
              "    display: none;\n",
              "    fill: var(--fill-color);\n",
              "    height: 32px;\n",
              "    padding: 0;\n",
              "    width: 32px;\n",
              "  }\n",
              "\n",
              "  .colab-df-quickchart:hover {\n",
              "    background-color: var(--hover-bg-color);\n",
              "    box-shadow: 0 1px 2px rgba(60, 64, 67, 0.3), 0 1px 3px 1px rgba(60, 64, 67, 0.15);\n",
              "    fill: var(--button-hover-fill-color);\n",
              "  }\n",
              "\n",
              "  .colab-df-quickchart-complete:disabled,\n",
              "  .colab-df-quickchart-complete:disabled:hover {\n",
              "    background-color: var(--disabled-bg-color);\n",
              "    fill: var(--disabled-fill-color);\n",
              "    box-shadow: none;\n",
              "  }\n",
              "\n",
              "  .colab-df-spinner {\n",
              "    border: 2px solid var(--fill-color);\n",
              "    border-color: transparent;\n",
              "    border-bottom-color: var(--fill-color);\n",
              "    animation:\n",
              "      spin 1s steps(1) infinite;\n",
              "  }\n",
              "\n",
              "  @keyframes spin {\n",
              "    0% {\n",
              "      border-color: transparent;\n",
              "      border-bottom-color: var(--fill-color);\n",
              "      border-left-color: var(--fill-color);\n",
              "    }\n",
              "    20% {\n",
              "      border-color: transparent;\n",
              "      border-left-color: var(--fill-color);\n",
              "      border-top-color: var(--fill-color);\n",
              "    }\n",
              "    30% {\n",
              "      border-color: transparent;\n",
              "      border-left-color: var(--fill-color);\n",
              "      border-top-color: var(--fill-color);\n",
              "      border-right-color: var(--fill-color);\n",
              "    }\n",
              "    40% {\n",
              "      border-color: transparent;\n",
              "      border-right-color: var(--fill-color);\n",
              "      border-top-color: var(--fill-color);\n",
              "    }\n",
              "    60% {\n",
              "      border-color: transparent;\n",
              "      border-right-color: var(--fill-color);\n",
              "    }\n",
              "    80% {\n",
              "      border-color: transparent;\n",
              "      border-right-color: var(--fill-color);\n",
              "      border-bottom-color: var(--fill-color);\n",
              "    }\n",
              "    90% {\n",
              "      border-color: transparent;\n",
              "      border-bottom-color: var(--fill-color);\n",
              "    }\n",
              "  }\n",
              "</style>\n",
              "\n",
              "  <script>\n",
              "    async function quickchart(key) {\n",
              "      const quickchartButtonEl =\n",
              "        document.querySelector('#' + key + ' button');\n",
              "      quickchartButtonEl.disabled = true;  // To prevent multiple clicks.\n",
              "      quickchartButtonEl.classList.add('colab-df-spinner');\n",
              "      try {\n",
              "        const charts = await google.colab.kernel.invokeFunction(\n",
              "            'suggestCharts', [key], {});\n",
              "      } catch (error) {\n",
              "        console.error('Error during call to suggestCharts:', error);\n",
              "      }\n",
              "      quickchartButtonEl.classList.remove('colab-df-spinner');\n",
              "      quickchartButtonEl.classList.add('colab-df-quickchart-complete');\n",
              "    }\n",
              "    (() => {\n",
              "      let quickchartButtonEl =\n",
              "        document.querySelector('#df-3be3aac1-23d2-4d88-90a1-52d42073710c button');\n",
              "      quickchartButtonEl.style.display =\n",
              "        google.colab.kernel.accessAllowed ? 'block' : 'none';\n",
              "    })();\n",
              "  </script>\n",
              "</div>\n",
              "    </div>\n",
              "  </div>\n"
            ]
          },
          "metadata": {},
          "execution_count": 35
        }
      ]
    },
    {
      "cell_type": "code",
      "source": [
        "data_test[data_test['month']==1]"
      ],
      "metadata": {
        "colab": {
          "base_uri": "https://localhost:8080/",
          "height": 753
        },
        "id": "vvsAdit85fgO",
        "outputId": "d559bad6-4a59-4efd-857b-5369eea1a51d"
      },
      "execution_count": 36,
      "outputs": [
        {
          "output_type": "execute_result",
          "data": {
            "text/plain": [
              "      InvoiceNo StockCode                      Description  Quantity  \\\n",
              "55390    540993     22423         REGENCY CAKESTAND 3 TIER         2   \n",
              "55391    540993     22776      SWEETHEART CAKESTAND 3 TIER         1   \n",
              "55392    540993     21471     STRAWBERRY RAFFIA FOOD COVER         6   \n",
              "55393    540993     47580            TEA TIME DES TEA COSY         6   \n",
              "55394    540993     21212  PACK OF 72 RETROSPOT CAKE CASES        24   \n",
              "...         ...       ...                              ...       ...   \n",
              "77623    542745     22138    BAKING SET 9 PIECE RETROSPOT         13   \n",
              "77624    542746     21034     REX CASH+CARRY JUMBO SHOPPER         2   \n",
              "77625   C542748     22969     HOMEMADE JAM SCENTED CANDLES       -12   \n",
              "77626   C542753     22649     STRAWBERRY FAIRY CAKE TEAPOT        -1   \n",
              "77627    542759     22649     STRAWBERRY FAIRY CAKE TEAPOT         1   \n",
              "\n",
              "           InvoiceDate  UnitPrice  CustomerID         Country       date day  \\\n",
              "55390   1/13/2011 9:23      12.75     13284.0  United Kingdom  1/13/2011  13   \n",
              "55391   1/13/2011 9:23       9.95     13284.0  United Kingdom  1/13/2011  13   \n",
              "55392   1/13/2011 9:23       3.75     13284.0  United Kingdom  1/13/2011  13   \n",
              "55393   1/13/2011 9:23       2.55     13284.0  United Kingdom  1/13/2011  13   \n",
              "55394   1/13/2011 9:23       0.55     13284.0  United Kingdom  1/13/2011  13   \n",
              "...                ...        ...         ...             ...        ...  ..   \n",
              "77623  1/31/2011 16:47       4.95     15881.0  United Kingdom  1/31/2011  31   \n",
              "77624  1/31/2011 16:48       0.95     15881.0  United Kingdom  1/31/2011  31   \n",
              "77625  1/31/2011 16:53       1.45     15881.0  United Kingdom  1/31/2011  31   \n",
              "77626  1/31/2011 16:57       4.95     15881.0  United Kingdom  1/31/2011  31   \n",
              "77627  1/31/2011 16:59       4.95     15881.0  United Kingdom  1/31/2011  31   \n",
              "\n",
              "      month  year  \n",
              "55390     1  2011  \n",
              "55391     1  2011  \n",
              "55392     1  2011  \n",
              "55393     1  2011  \n",
              "55394     1  2011  \n",
              "...     ...   ...  \n",
              "77623     1  2011  \n",
              "77624     1  2011  \n",
              "77625     1  2011  \n",
              "77626     1  2011  \n",
              "77627     1  2011  \n",
              "\n",
              "[22238 rows x 12 columns]"
            ],
            "text/html": [
              "\n",
              "  <div id=\"df-40515c67-9efb-4180-a7f8-727b4c785c20\" class=\"colab-df-container\">\n",
              "    <div>\n",
              "<style scoped>\n",
              "    .dataframe tbody tr th:only-of-type {\n",
              "        vertical-align: middle;\n",
              "    }\n",
              "\n",
              "    .dataframe tbody tr th {\n",
              "        vertical-align: top;\n",
              "    }\n",
              "\n",
              "    .dataframe thead th {\n",
              "        text-align: right;\n",
              "    }\n",
              "</style>\n",
              "<table border=\"1\" class=\"dataframe\">\n",
              "  <thead>\n",
              "    <tr style=\"text-align: right;\">\n",
              "      <th></th>\n",
              "      <th>InvoiceNo</th>\n",
              "      <th>StockCode</th>\n",
              "      <th>Description</th>\n",
              "      <th>Quantity</th>\n",
              "      <th>InvoiceDate</th>\n",
              "      <th>UnitPrice</th>\n",
              "      <th>CustomerID</th>\n",
              "      <th>Country</th>\n",
              "      <th>date</th>\n",
              "      <th>day</th>\n",
              "      <th>month</th>\n",
              "      <th>year</th>\n",
              "    </tr>\n",
              "  </thead>\n",
              "  <tbody>\n",
              "    <tr>\n",
              "      <th>55390</th>\n",
              "      <td>540993</td>\n",
              "      <td>22423</td>\n",
              "      <td>REGENCY CAKESTAND 3 TIER</td>\n",
              "      <td>2</td>\n",
              "      <td>1/13/2011 9:23</td>\n",
              "      <td>12.75</td>\n",
              "      <td>13284.0</td>\n",
              "      <td>United Kingdom</td>\n",
              "      <td>1/13/2011</td>\n",
              "      <td>13</td>\n",
              "      <td>1</td>\n",
              "      <td>2011</td>\n",
              "    </tr>\n",
              "    <tr>\n",
              "      <th>55391</th>\n",
              "      <td>540993</td>\n",
              "      <td>22776</td>\n",
              "      <td>SWEETHEART CAKESTAND 3 TIER</td>\n",
              "      <td>1</td>\n",
              "      <td>1/13/2011 9:23</td>\n",
              "      <td>9.95</td>\n",
              "      <td>13284.0</td>\n",
              "      <td>United Kingdom</td>\n",
              "      <td>1/13/2011</td>\n",
              "      <td>13</td>\n",
              "      <td>1</td>\n",
              "      <td>2011</td>\n",
              "    </tr>\n",
              "    <tr>\n",
              "      <th>55392</th>\n",
              "      <td>540993</td>\n",
              "      <td>21471</td>\n",
              "      <td>STRAWBERRY RAFFIA FOOD COVER</td>\n",
              "      <td>6</td>\n",
              "      <td>1/13/2011 9:23</td>\n",
              "      <td>3.75</td>\n",
              "      <td>13284.0</td>\n",
              "      <td>United Kingdom</td>\n",
              "      <td>1/13/2011</td>\n",
              "      <td>13</td>\n",
              "      <td>1</td>\n",
              "      <td>2011</td>\n",
              "    </tr>\n",
              "    <tr>\n",
              "      <th>55393</th>\n",
              "      <td>540993</td>\n",
              "      <td>47580</td>\n",
              "      <td>TEA TIME DES TEA COSY</td>\n",
              "      <td>6</td>\n",
              "      <td>1/13/2011 9:23</td>\n",
              "      <td>2.55</td>\n",
              "      <td>13284.0</td>\n",
              "      <td>United Kingdom</td>\n",
              "      <td>1/13/2011</td>\n",
              "      <td>13</td>\n",
              "      <td>1</td>\n",
              "      <td>2011</td>\n",
              "    </tr>\n",
              "    <tr>\n",
              "      <th>55394</th>\n",
              "      <td>540993</td>\n",
              "      <td>21212</td>\n",
              "      <td>PACK OF 72 RETROSPOT CAKE CASES</td>\n",
              "      <td>24</td>\n",
              "      <td>1/13/2011 9:23</td>\n",
              "      <td>0.55</td>\n",
              "      <td>13284.0</td>\n",
              "      <td>United Kingdom</td>\n",
              "      <td>1/13/2011</td>\n",
              "      <td>13</td>\n",
              "      <td>1</td>\n",
              "      <td>2011</td>\n",
              "    </tr>\n",
              "    <tr>\n",
              "      <th>...</th>\n",
              "      <td>...</td>\n",
              "      <td>...</td>\n",
              "      <td>...</td>\n",
              "      <td>...</td>\n",
              "      <td>...</td>\n",
              "      <td>...</td>\n",
              "      <td>...</td>\n",
              "      <td>...</td>\n",
              "      <td>...</td>\n",
              "      <td>...</td>\n",
              "      <td>...</td>\n",
              "      <td>...</td>\n",
              "    </tr>\n",
              "    <tr>\n",
              "      <th>77623</th>\n",
              "      <td>542745</td>\n",
              "      <td>22138</td>\n",
              "      <td>BAKING SET 9 PIECE RETROSPOT</td>\n",
              "      <td>13</td>\n",
              "      <td>1/31/2011 16:47</td>\n",
              "      <td>4.95</td>\n",
              "      <td>15881.0</td>\n",
              "      <td>United Kingdom</td>\n",
              "      <td>1/31/2011</td>\n",
              "      <td>31</td>\n",
              "      <td>1</td>\n",
              "      <td>2011</td>\n",
              "    </tr>\n",
              "    <tr>\n",
              "      <th>77624</th>\n",
              "      <td>542746</td>\n",
              "      <td>21034</td>\n",
              "      <td>REX CASH+CARRY JUMBO SHOPPER</td>\n",
              "      <td>2</td>\n",
              "      <td>1/31/2011 16:48</td>\n",
              "      <td>0.95</td>\n",
              "      <td>15881.0</td>\n",
              "      <td>United Kingdom</td>\n",
              "      <td>1/31/2011</td>\n",
              "      <td>31</td>\n",
              "      <td>1</td>\n",
              "      <td>2011</td>\n",
              "    </tr>\n",
              "    <tr>\n",
              "      <th>77625</th>\n",
              "      <td>C542748</td>\n",
              "      <td>22969</td>\n",
              "      <td>HOMEMADE JAM SCENTED CANDLES</td>\n",
              "      <td>-12</td>\n",
              "      <td>1/31/2011 16:53</td>\n",
              "      <td>1.45</td>\n",
              "      <td>15881.0</td>\n",
              "      <td>United Kingdom</td>\n",
              "      <td>1/31/2011</td>\n",
              "      <td>31</td>\n",
              "      <td>1</td>\n",
              "      <td>2011</td>\n",
              "    </tr>\n",
              "    <tr>\n",
              "      <th>77626</th>\n",
              "      <td>C542753</td>\n",
              "      <td>22649</td>\n",
              "      <td>STRAWBERRY FAIRY CAKE TEAPOT</td>\n",
              "      <td>-1</td>\n",
              "      <td>1/31/2011 16:57</td>\n",
              "      <td>4.95</td>\n",
              "      <td>15881.0</td>\n",
              "      <td>United Kingdom</td>\n",
              "      <td>1/31/2011</td>\n",
              "      <td>31</td>\n",
              "      <td>1</td>\n",
              "      <td>2011</td>\n",
              "    </tr>\n",
              "    <tr>\n",
              "      <th>77627</th>\n",
              "      <td>542759</td>\n",
              "      <td>22649</td>\n",
              "      <td>STRAWBERRY FAIRY CAKE TEAPOT</td>\n",
              "      <td>1</td>\n",
              "      <td>1/31/2011 16:59</td>\n",
              "      <td>4.95</td>\n",
              "      <td>15881.0</td>\n",
              "      <td>United Kingdom</td>\n",
              "      <td>1/31/2011</td>\n",
              "      <td>31</td>\n",
              "      <td>1</td>\n",
              "      <td>2011</td>\n",
              "    </tr>\n",
              "  </tbody>\n",
              "</table>\n",
              "<p>22238 rows × 12 columns</p>\n",
              "</div>\n",
              "    <div class=\"colab-df-buttons\">\n",
              "\n",
              "  <div class=\"colab-df-container\">\n",
              "    <button class=\"colab-df-convert\" onclick=\"convertToInteractive('df-40515c67-9efb-4180-a7f8-727b4c785c20')\"\n",
              "            title=\"Convert this dataframe to an interactive table.\"\n",
              "            style=\"display:none;\">\n",
              "\n",
              "  <svg xmlns=\"http://www.w3.org/2000/svg\" height=\"24px\" viewBox=\"0 -960 960 960\">\n",
              "    <path d=\"M120-120v-720h720v720H120Zm60-500h600v-160H180v160Zm220 220h160v-160H400v160Zm0 220h160v-160H400v160ZM180-400h160v-160H180v160Zm440 0h160v-160H620v160ZM180-180h160v-160H180v160Zm440 0h160v-160H620v160Z\"/>\n",
              "  </svg>\n",
              "    </button>\n",
              "\n",
              "  <style>\n",
              "    .colab-df-container {\n",
              "      display:flex;\n",
              "      gap: 12px;\n",
              "    }\n",
              "\n",
              "    .colab-df-convert {\n",
              "      background-color: #E8F0FE;\n",
              "      border: none;\n",
              "      border-radius: 50%;\n",
              "      cursor: pointer;\n",
              "      display: none;\n",
              "      fill: #1967D2;\n",
              "      height: 32px;\n",
              "      padding: 0 0 0 0;\n",
              "      width: 32px;\n",
              "    }\n",
              "\n",
              "    .colab-df-convert:hover {\n",
              "      background-color: #E2EBFA;\n",
              "      box-shadow: 0px 1px 2px rgba(60, 64, 67, 0.3), 0px 1px 3px 1px rgba(60, 64, 67, 0.15);\n",
              "      fill: #174EA6;\n",
              "    }\n",
              "\n",
              "    .colab-df-buttons div {\n",
              "      margin-bottom: 4px;\n",
              "    }\n",
              "\n",
              "    [theme=dark] .colab-df-convert {\n",
              "      background-color: #3B4455;\n",
              "      fill: #D2E3FC;\n",
              "    }\n",
              "\n",
              "    [theme=dark] .colab-df-convert:hover {\n",
              "      background-color: #434B5C;\n",
              "      box-shadow: 0px 1px 3px 1px rgba(0, 0, 0, 0.15);\n",
              "      filter: drop-shadow(0px 1px 2px rgba(0, 0, 0, 0.3));\n",
              "      fill: #FFFFFF;\n",
              "    }\n",
              "  </style>\n",
              "\n",
              "    <script>\n",
              "      const buttonEl =\n",
              "        document.querySelector('#df-40515c67-9efb-4180-a7f8-727b4c785c20 button.colab-df-convert');\n",
              "      buttonEl.style.display =\n",
              "        google.colab.kernel.accessAllowed ? 'block' : 'none';\n",
              "\n",
              "      async function convertToInteractive(key) {\n",
              "        const element = document.querySelector('#df-40515c67-9efb-4180-a7f8-727b4c785c20');\n",
              "        const dataTable =\n",
              "          await google.colab.kernel.invokeFunction('convertToInteractive',\n",
              "                                                    [key], {});\n",
              "        if (!dataTable) return;\n",
              "\n",
              "        const docLinkHtml = 'Like what you see? Visit the ' +\n",
              "          '<a target=\"_blank\" href=https://colab.research.google.com/notebooks/data_table.ipynb>data table notebook</a>'\n",
              "          + ' to learn more about interactive tables.';\n",
              "        element.innerHTML = '';\n",
              "        dataTable['output_type'] = 'display_data';\n",
              "        await google.colab.output.renderOutput(dataTable, element);\n",
              "        const docLink = document.createElement('div');\n",
              "        docLink.innerHTML = docLinkHtml;\n",
              "        element.appendChild(docLink);\n",
              "      }\n",
              "    </script>\n",
              "  </div>\n",
              "\n",
              "\n",
              "<div id=\"df-1f83f891-5f3b-455c-ae12-38ea843ab343\">\n",
              "  <button class=\"colab-df-quickchart\" onclick=\"quickchart('df-1f83f891-5f3b-455c-ae12-38ea843ab343')\"\n",
              "            title=\"Suggest charts\"\n",
              "            style=\"display:none;\">\n",
              "\n",
              "<svg xmlns=\"http://www.w3.org/2000/svg\" height=\"24px\"viewBox=\"0 0 24 24\"\n",
              "     width=\"24px\">\n",
              "    <g>\n",
              "        <path d=\"M19 3H5c-1.1 0-2 .9-2 2v14c0 1.1.9 2 2 2h14c1.1 0 2-.9 2-2V5c0-1.1-.9-2-2-2zM9 17H7v-7h2v7zm4 0h-2V7h2v10zm4 0h-2v-4h2v4z\"/>\n",
              "    </g>\n",
              "</svg>\n",
              "  </button>\n",
              "\n",
              "<style>\n",
              "  .colab-df-quickchart {\n",
              "      --bg-color: #E8F0FE;\n",
              "      --fill-color: #1967D2;\n",
              "      --hover-bg-color: #E2EBFA;\n",
              "      --hover-fill-color: #174EA6;\n",
              "      --disabled-fill-color: #AAA;\n",
              "      --disabled-bg-color: #DDD;\n",
              "  }\n",
              "\n",
              "  [theme=dark] .colab-df-quickchart {\n",
              "      --bg-color: #3B4455;\n",
              "      --fill-color: #D2E3FC;\n",
              "      --hover-bg-color: #434B5C;\n",
              "      --hover-fill-color: #FFFFFF;\n",
              "      --disabled-bg-color: #3B4455;\n",
              "      --disabled-fill-color: #666;\n",
              "  }\n",
              "\n",
              "  .colab-df-quickchart {\n",
              "    background-color: var(--bg-color);\n",
              "    border: none;\n",
              "    border-radius: 50%;\n",
              "    cursor: pointer;\n",
              "    display: none;\n",
              "    fill: var(--fill-color);\n",
              "    height: 32px;\n",
              "    padding: 0;\n",
              "    width: 32px;\n",
              "  }\n",
              "\n",
              "  .colab-df-quickchart:hover {\n",
              "    background-color: var(--hover-bg-color);\n",
              "    box-shadow: 0 1px 2px rgba(60, 64, 67, 0.3), 0 1px 3px 1px rgba(60, 64, 67, 0.15);\n",
              "    fill: var(--button-hover-fill-color);\n",
              "  }\n",
              "\n",
              "  .colab-df-quickchart-complete:disabled,\n",
              "  .colab-df-quickchart-complete:disabled:hover {\n",
              "    background-color: var(--disabled-bg-color);\n",
              "    fill: var(--disabled-fill-color);\n",
              "    box-shadow: none;\n",
              "  }\n",
              "\n",
              "  .colab-df-spinner {\n",
              "    border: 2px solid var(--fill-color);\n",
              "    border-color: transparent;\n",
              "    border-bottom-color: var(--fill-color);\n",
              "    animation:\n",
              "      spin 1s steps(1) infinite;\n",
              "  }\n",
              "\n",
              "  @keyframes spin {\n",
              "    0% {\n",
              "      border-color: transparent;\n",
              "      border-bottom-color: var(--fill-color);\n",
              "      border-left-color: var(--fill-color);\n",
              "    }\n",
              "    20% {\n",
              "      border-color: transparent;\n",
              "      border-left-color: var(--fill-color);\n",
              "      border-top-color: var(--fill-color);\n",
              "    }\n",
              "    30% {\n",
              "      border-color: transparent;\n",
              "      border-left-color: var(--fill-color);\n",
              "      border-top-color: var(--fill-color);\n",
              "      border-right-color: var(--fill-color);\n",
              "    }\n",
              "    40% {\n",
              "      border-color: transparent;\n",
              "      border-right-color: var(--fill-color);\n",
              "      border-top-color: var(--fill-color);\n",
              "    }\n",
              "    60% {\n",
              "      border-color: transparent;\n",
              "      border-right-color: var(--fill-color);\n",
              "    }\n",
              "    80% {\n",
              "      border-color: transparent;\n",
              "      border-right-color: var(--fill-color);\n",
              "      border-bottom-color: var(--fill-color);\n",
              "    }\n",
              "    90% {\n",
              "      border-color: transparent;\n",
              "      border-bottom-color: var(--fill-color);\n",
              "    }\n",
              "  }\n",
              "</style>\n",
              "\n",
              "  <script>\n",
              "    async function quickchart(key) {\n",
              "      const quickchartButtonEl =\n",
              "        document.querySelector('#' + key + ' button');\n",
              "      quickchartButtonEl.disabled = true;  // To prevent multiple clicks.\n",
              "      quickchartButtonEl.classList.add('colab-df-spinner');\n",
              "      try {\n",
              "        const charts = await google.colab.kernel.invokeFunction(\n",
              "            'suggestCharts', [key], {});\n",
              "      } catch (error) {\n",
              "        console.error('Error during call to suggestCharts:', error);\n",
              "      }\n",
              "      quickchartButtonEl.classList.remove('colab-df-spinner');\n",
              "      quickchartButtonEl.classList.add('colab-df-quickchart-complete');\n",
              "    }\n",
              "    (() => {\n",
              "      let quickchartButtonEl =\n",
              "        document.querySelector('#df-1f83f891-5f3b-455c-ae12-38ea843ab343 button');\n",
              "      quickchartButtonEl.style.display =\n",
              "        google.colab.kernel.accessAllowed ? 'block' : 'none';\n",
              "    })();\n",
              "  </script>\n",
              "</div>\n",
              "    </div>\n",
              "  </div>\n"
            ]
          },
          "metadata": {},
          "execution_count": 36
        }
      ]
    },
    {
      "cell_type": "markdown",
      "source": [
        "####แยกประเทศตาม ทวีป"
      ],
      "metadata": {
        "id": "hjkqgdPv9TVg"
      }
    },
    {
      "cell_type": "code",
      "source": [
        "set(data['Country'])"
      ],
      "metadata": {
        "colab": {
          "base_uri": "https://localhost:8080/"
        },
        "id": "Ao0UGYCT9jTQ",
        "outputId": "e4721397-a51b-40e7-bf9d-a44e4e30f485"
      },
      "execution_count": 37,
      "outputs": [
        {
          "output_type": "execute_result",
          "data": {
            "text/plain": [
              "{'Australia',\n",
              " 'Austria',\n",
              " 'Bahrain',\n",
              " 'Belgium',\n",
              " 'Brazil',\n",
              " 'Canada',\n",
              " 'Channel Islands',\n",
              " 'Cyprus',\n",
              " 'Czech Republic',\n",
              " 'Denmark',\n",
              " 'EIRE',\n",
              " 'European Community',\n",
              " 'Finland',\n",
              " 'France',\n",
              " 'Germany',\n",
              " 'Greece',\n",
              " 'Hong Kong',\n",
              " 'Iceland',\n",
              " 'Israel',\n",
              " 'Italy',\n",
              " 'Japan',\n",
              " 'Lebanon',\n",
              " 'Lithuania',\n",
              " 'Malta',\n",
              " 'Netherlands',\n",
              " 'Norway',\n",
              " 'Poland',\n",
              " 'Portugal',\n",
              " 'RSA',\n",
              " 'Saudi Arabia',\n",
              " 'Singapore',\n",
              " 'Spain',\n",
              " 'Sweden',\n",
              " 'Switzerland',\n",
              " 'USA',\n",
              " 'United Arab Emirates',\n",
              " 'United Kingdom',\n",
              " 'Unspecified'}"
            ]
          },
          "metadata": {},
          "execution_count": 37
        }
      ]
    },
    {
      "cell_type": "markdown",
      "source": [
        "##### ทวีปยุโรป"
      ],
      "metadata": {
        "id": "K2Zyb8j79r51"
      }
    },
    {
      "cell_type": "code",
      "source": [
        "Eu = ['Austria','Belgium','Channel Islands','Cyprus','Czech Republic','Denmark','EIRE','European Community',\n",
        "              'Finland','France','Germany','Greece','Iceland','Italy','Lithuania','Malta','Netherlands',\n",
        "              'Norway','Poland','Portugal','Spain','Sweden','Switzerland','United Kingdom']"
      ],
      "metadata": {
        "id": "rbv7fnyGAQfO"
      },
      "execution_count": 38,
      "outputs": []
    },
    {
      "cell_type": "markdown",
      "source": [
        "##### ทวีปเอเชีย"
      ],
      "metadata": {
        "id": "qAbsKGAOAPPC"
      }
    },
    {
      "cell_type": "code",
      "source": [
        "Asia= ['Bahrain','Hong Kong','Israel','Japan','Lebanon','Saudi Arabia','Singapore','United Arab Emirates']"
      ],
      "metadata": {
        "id": "4hHptH2GARgJ"
      },
      "execution_count": 39,
      "outputs": []
    },
    {
      "cell_type": "markdown",
      "source": [
        "## Code หาชื่อสินค้า จาก Column \"Description\""
      ],
      "metadata": {
        "id": "PR5t3E4u4bmb"
      }
    },
    {
      "cell_type": "code",
      "source": [
        "def finditem(x,y) :\n",
        "  L=set(data[(data['StockCode']==x)|(data['StockCode']==y)]['Description'])\n",
        "  return L"
      ],
      "metadata": {
        "id": "wp01L8b64P_z"
      },
      "execution_count": 40,
      "outputs": []
    },
    {
      "cell_type": "markdown",
      "source": [
        "## 1.ของช่วงเวลา Christmas & New Year (1 Dec - 31 Dec)"
      ],
      "metadata": {
        "id": "oYxuvUrj5Sqd"
      }
    },
    {
      "cell_type": "markdown",
      "source": [
        "### จัดกลุ่มตาม Transaction (Invoice_No)"
      ],
      "metadata": {
        "id": "zi9zdVId6a0v"
      }
    },
    {
      "cell_type": "code",
      "source": [
        "data_CM_and_NY = data_test[data_test['month']==12]"
      ],
      "metadata": {
        "id": "bSERVV1-5XrX"
      },
      "execution_count": 41,
      "outputs": []
    },
    {
      "cell_type": "code",
      "source": [
        "data_CM_and_NY"
      ],
      "metadata": {
        "id": "XdwoIoyU64vF",
        "outputId": "233a024f-3341-45bb-f5c3-7f9367796ca8",
        "colab": {
          "base_uri": "https://localhost:8080/",
          "height": 788
        }
      },
      "execution_count": 42,
      "outputs": [
        {
          "output_type": "execute_result",
          "data": {
            "text/plain": [
              "       InvoiceNo StockCode                          Description  Quantity  \\\n",
              "0         536365    85123A   WHITE HANGING HEART T-LIGHT HOLDER         6   \n",
              "1         536365     71053                  WHITE METAL LANTERN         6   \n",
              "2         536365    84406B       CREAM CUPID HEARTS COAT HANGER         8   \n",
              "3         536365    84029G  KNITTED UNION FLAG HOT WATER BOTTLE         6   \n",
              "4         536365    84029E       RED WOOLLY HOTTIE WHITE HEART.         6   \n",
              "...          ...       ...                                  ...       ...   \n",
              "541904    581587     22613          PACK OF 20 SPACEBOY NAPKINS        12   \n",
              "541905    581587     22899         CHILDREN'S APRON DOLLY GIRL          6   \n",
              "541906    581587     23254        CHILDRENS CUTLERY DOLLY GIRL          4   \n",
              "541907    581587     23255      CHILDRENS CUTLERY CIRCUS PARADE         4   \n",
              "541908    581587     22138        BAKING SET 9 PIECE RETROSPOT          3   \n",
              "\n",
              "             InvoiceDate  UnitPrice  CustomerID         Country        date  \\\n",
              "0       12/01/2010 08:26       2.55     17850.0  United Kingdom  12/01/2010   \n",
              "1       12/01/2010 08:26       3.39     17850.0  United Kingdom  12/01/2010   \n",
              "2       12/01/2010 08:26       2.75     17850.0  United Kingdom  12/01/2010   \n",
              "3       12/01/2010 08:26       3.39     17850.0  United Kingdom  12/01/2010   \n",
              "4       12/01/2010 08:26       3.39     17850.0  United Kingdom  12/01/2010   \n",
              "...                  ...        ...         ...             ...         ...   \n",
              "541904  12/09/2011 12:50       0.85     12680.0          France  12/09/2011   \n",
              "541905  12/09/2011 12:50       2.10     12680.0          France  12/09/2011   \n",
              "541906  12/09/2011 12:50       4.15     12680.0          France  12/09/2011   \n",
              "541907  12/09/2011 12:50       4.15     12680.0          France  12/09/2011   \n",
              "541908  12/09/2011 12:50       4.95     12680.0          France  12/09/2011   \n",
              "\n",
              "       day month  year  \n",
              "0       01    12  2010  \n",
              "1       01    12  2010  \n",
              "2       01    12  2010  \n",
              "3       01    12  2010  \n",
              "4       01    12  2010  \n",
              "...     ..   ...   ...  \n",
              "541904  09    12  2011  \n",
              "541905  09    12  2011  \n",
              "541906  09    12  2011  \n",
              "541907  09    12  2011  \n",
              "541908  09    12  2011  \n",
              "\n",
              "[68006 rows x 12 columns]"
            ],
            "text/html": [
              "\n",
              "  <div id=\"df-fd36b22f-4c07-4546-b018-32966bbb860f\" class=\"colab-df-container\">\n",
              "    <div>\n",
              "<style scoped>\n",
              "    .dataframe tbody tr th:only-of-type {\n",
              "        vertical-align: middle;\n",
              "    }\n",
              "\n",
              "    .dataframe tbody tr th {\n",
              "        vertical-align: top;\n",
              "    }\n",
              "\n",
              "    .dataframe thead th {\n",
              "        text-align: right;\n",
              "    }\n",
              "</style>\n",
              "<table border=\"1\" class=\"dataframe\">\n",
              "  <thead>\n",
              "    <tr style=\"text-align: right;\">\n",
              "      <th></th>\n",
              "      <th>InvoiceNo</th>\n",
              "      <th>StockCode</th>\n",
              "      <th>Description</th>\n",
              "      <th>Quantity</th>\n",
              "      <th>InvoiceDate</th>\n",
              "      <th>UnitPrice</th>\n",
              "      <th>CustomerID</th>\n",
              "      <th>Country</th>\n",
              "      <th>date</th>\n",
              "      <th>day</th>\n",
              "      <th>month</th>\n",
              "      <th>year</th>\n",
              "    </tr>\n",
              "  </thead>\n",
              "  <tbody>\n",
              "    <tr>\n",
              "      <th>0</th>\n",
              "      <td>536365</td>\n",
              "      <td>85123A</td>\n",
              "      <td>WHITE HANGING HEART T-LIGHT HOLDER</td>\n",
              "      <td>6</td>\n",
              "      <td>12/01/2010 08:26</td>\n",
              "      <td>2.55</td>\n",
              "      <td>17850.0</td>\n",
              "      <td>United Kingdom</td>\n",
              "      <td>12/01/2010</td>\n",
              "      <td>01</td>\n",
              "      <td>12</td>\n",
              "      <td>2010</td>\n",
              "    </tr>\n",
              "    <tr>\n",
              "      <th>1</th>\n",
              "      <td>536365</td>\n",
              "      <td>71053</td>\n",
              "      <td>WHITE METAL LANTERN</td>\n",
              "      <td>6</td>\n",
              "      <td>12/01/2010 08:26</td>\n",
              "      <td>3.39</td>\n",
              "      <td>17850.0</td>\n",
              "      <td>United Kingdom</td>\n",
              "      <td>12/01/2010</td>\n",
              "      <td>01</td>\n",
              "      <td>12</td>\n",
              "      <td>2010</td>\n",
              "    </tr>\n",
              "    <tr>\n",
              "      <th>2</th>\n",
              "      <td>536365</td>\n",
              "      <td>84406B</td>\n",
              "      <td>CREAM CUPID HEARTS COAT HANGER</td>\n",
              "      <td>8</td>\n",
              "      <td>12/01/2010 08:26</td>\n",
              "      <td>2.75</td>\n",
              "      <td>17850.0</td>\n",
              "      <td>United Kingdom</td>\n",
              "      <td>12/01/2010</td>\n",
              "      <td>01</td>\n",
              "      <td>12</td>\n",
              "      <td>2010</td>\n",
              "    </tr>\n",
              "    <tr>\n",
              "      <th>3</th>\n",
              "      <td>536365</td>\n",
              "      <td>84029G</td>\n",
              "      <td>KNITTED UNION FLAG HOT WATER BOTTLE</td>\n",
              "      <td>6</td>\n",
              "      <td>12/01/2010 08:26</td>\n",
              "      <td>3.39</td>\n",
              "      <td>17850.0</td>\n",
              "      <td>United Kingdom</td>\n",
              "      <td>12/01/2010</td>\n",
              "      <td>01</td>\n",
              "      <td>12</td>\n",
              "      <td>2010</td>\n",
              "    </tr>\n",
              "    <tr>\n",
              "      <th>4</th>\n",
              "      <td>536365</td>\n",
              "      <td>84029E</td>\n",
              "      <td>RED WOOLLY HOTTIE WHITE HEART.</td>\n",
              "      <td>6</td>\n",
              "      <td>12/01/2010 08:26</td>\n",
              "      <td>3.39</td>\n",
              "      <td>17850.0</td>\n",
              "      <td>United Kingdom</td>\n",
              "      <td>12/01/2010</td>\n",
              "      <td>01</td>\n",
              "      <td>12</td>\n",
              "      <td>2010</td>\n",
              "    </tr>\n",
              "    <tr>\n",
              "      <th>...</th>\n",
              "      <td>...</td>\n",
              "      <td>...</td>\n",
              "      <td>...</td>\n",
              "      <td>...</td>\n",
              "      <td>...</td>\n",
              "      <td>...</td>\n",
              "      <td>...</td>\n",
              "      <td>...</td>\n",
              "      <td>...</td>\n",
              "      <td>...</td>\n",
              "      <td>...</td>\n",
              "      <td>...</td>\n",
              "    </tr>\n",
              "    <tr>\n",
              "      <th>541904</th>\n",
              "      <td>581587</td>\n",
              "      <td>22613</td>\n",
              "      <td>PACK OF 20 SPACEBOY NAPKINS</td>\n",
              "      <td>12</td>\n",
              "      <td>12/09/2011 12:50</td>\n",
              "      <td>0.85</td>\n",
              "      <td>12680.0</td>\n",
              "      <td>France</td>\n",
              "      <td>12/09/2011</td>\n",
              "      <td>09</td>\n",
              "      <td>12</td>\n",
              "      <td>2011</td>\n",
              "    </tr>\n",
              "    <tr>\n",
              "      <th>541905</th>\n",
              "      <td>581587</td>\n",
              "      <td>22899</td>\n",
              "      <td>CHILDREN'S APRON DOLLY GIRL</td>\n",
              "      <td>6</td>\n",
              "      <td>12/09/2011 12:50</td>\n",
              "      <td>2.10</td>\n",
              "      <td>12680.0</td>\n",
              "      <td>France</td>\n",
              "      <td>12/09/2011</td>\n",
              "      <td>09</td>\n",
              "      <td>12</td>\n",
              "      <td>2011</td>\n",
              "    </tr>\n",
              "    <tr>\n",
              "      <th>541906</th>\n",
              "      <td>581587</td>\n",
              "      <td>23254</td>\n",
              "      <td>CHILDRENS CUTLERY DOLLY GIRL</td>\n",
              "      <td>4</td>\n",
              "      <td>12/09/2011 12:50</td>\n",
              "      <td>4.15</td>\n",
              "      <td>12680.0</td>\n",
              "      <td>France</td>\n",
              "      <td>12/09/2011</td>\n",
              "      <td>09</td>\n",
              "      <td>12</td>\n",
              "      <td>2011</td>\n",
              "    </tr>\n",
              "    <tr>\n",
              "      <th>541907</th>\n",
              "      <td>581587</td>\n",
              "      <td>23255</td>\n",
              "      <td>CHILDRENS CUTLERY CIRCUS PARADE</td>\n",
              "      <td>4</td>\n",
              "      <td>12/09/2011 12:50</td>\n",
              "      <td>4.15</td>\n",
              "      <td>12680.0</td>\n",
              "      <td>France</td>\n",
              "      <td>12/09/2011</td>\n",
              "      <td>09</td>\n",
              "      <td>12</td>\n",
              "      <td>2011</td>\n",
              "    </tr>\n",
              "    <tr>\n",
              "      <th>541908</th>\n",
              "      <td>581587</td>\n",
              "      <td>22138</td>\n",
              "      <td>BAKING SET 9 PIECE RETROSPOT</td>\n",
              "      <td>3</td>\n",
              "      <td>12/09/2011 12:50</td>\n",
              "      <td>4.95</td>\n",
              "      <td>12680.0</td>\n",
              "      <td>France</td>\n",
              "      <td>12/09/2011</td>\n",
              "      <td>09</td>\n",
              "      <td>12</td>\n",
              "      <td>2011</td>\n",
              "    </tr>\n",
              "  </tbody>\n",
              "</table>\n",
              "<p>68006 rows × 12 columns</p>\n",
              "</div>\n",
              "    <div class=\"colab-df-buttons\">\n",
              "\n",
              "  <div class=\"colab-df-container\">\n",
              "    <button class=\"colab-df-convert\" onclick=\"convertToInteractive('df-fd36b22f-4c07-4546-b018-32966bbb860f')\"\n",
              "            title=\"Convert this dataframe to an interactive table.\"\n",
              "            style=\"display:none;\">\n",
              "\n",
              "  <svg xmlns=\"http://www.w3.org/2000/svg\" height=\"24px\" viewBox=\"0 -960 960 960\">\n",
              "    <path d=\"M120-120v-720h720v720H120Zm60-500h600v-160H180v160Zm220 220h160v-160H400v160Zm0 220h160v-160H400v160ZM180-400h160v-160H180v160Zm440 0h160v-160H620v160ZM180-180h160v-160H180v160Zm440 0h160v-160H620v160Z\"/>\n",
              "  </svg>\n",
              "    </button>\n",
              "\n",
              "  <style>\n",
              "    .colab-df-container {\n",
              "      display:flex;\n",
              "      gap: 12px;\n",
              "    }\n",
              "\n",
              "    .colab-df-convert {\n",
              "      background-color: #E8F0FE;\n",
              "      border: none;\n",
              "      border-radius: 50%;\n",
              "      cursor: pointer;\n",
              "      display: none;\n",
              "      fill: #1967D2;\n",
              "      height: 32px;\n",
              "      padding: 0 0 0 0;\n",
              "      width: 32px;\n",
              "    }\n",
              "\n",
              "    .colab-df-convert:hover {\n",
              "      background-color: #E2EBFA;\n",
              "      box-shadow: 0px 1px 2px rgba(60, 64, 67, 0.3), 0px 1px 3px 1px rgba(60, 64, 67, 0.15);\n",
              "      fill: #174EA6;\n",
              "    }\n",
              "\n",
              "    .colab-df-buttons div {\n",
              "      margin-bottom: 4px;\n",
              "    }\n",
              "\n",
              "    [theme=dark] .colab-df-convert {\n",
              "      background-color: #3B4455;\n",
              "      fill: #D2E3FC;\n",
              "    }\n",
              "\n",
              "    [theme=dark] .colab-df-convert:hover {\n",
              "      background-color: #434B5C;\n",
              "      box-shadow: 0px 1px 3px 1px rgba(0, 0, 0, 0.15);\n",
              "      filter: drop-shadow(0px 1px 2px rgba(0, 0, 0, 0.3));\n",
              "      fill: #FFFFFF;\n",
              "    }\n",
              "  </style>\n",
              "\n",
              "    <script>\n",
              "      const buttonEl =\n",
              "        document.querySelector('#df-fd36b22f-4c07-4546-b018-32966bbb860f button.colab-df-convert');\n",
              "      buttonEl.style.display =\n",
              "        google.colab.kernel.accessAllowed ? 'block' : 'none';\n",
              "\n",
              "      async function convertToInteractive(key) {\n",
              "        const element = document.querySelector('#df-fd36b22f-4c07-4546-b018-32966bbb860f');\n",
              "        const dataTable =\n",
              "          await google.colab.kernel.invokeFunction('convertToInteractive',\n",
              "                                                    [key], {});\n",
              "        if (!dataTable) return;\n",
              "\n",
              "        const docLinkHtml = 'Like what you see? Visit the ' +\n",
              "          '<a target=\"_blank\" href=https://colab.research.google.com/notebooks/data_table.ipynb>data table notebook</a>'\n",
              "          + ' to learn more about interactive tables.';\n",
              "        element.innerHTML = '';\n",
              "        dataTable['output_type'] = 'display_data';\n",
              "        await google.colab.output.renderOutput(dataTable, element);\n",
              "        const docLink = document.createElement('div');\n",
              "        docLink.innerHTML = docLinkHtml;\n",
              "        element.appendChild(docLink);\n",
              "      }\n",
              "    </script>\n",
              "  </div>\n",
              "\n",
              "\n",
              "<div id=\"df-9649f4a3-835d-417a-b54f-fd090b9ab052\">\n",
              "  <button class=\"colab-df-quickchart\" onclick=\"quickchart('df-9649f4a3-835d-417a-b54f-fd090b9ab052')\"\n",
              "            title=\"Suggest charts\"\n",
              "            style=\"display:none;\">\n",
              "\n",
              "<svg xmlns=\"http://www.w3.org/2000/svg\" height=\"24px\"viewBox=\"0 0 24 24\"\n",
              "     width=\"24px\">\n",
              "    <g>\n",
              "        <path d=\"M19 3H5c-1.1 0-2 .9-2 2v14c0 1.1.9 2 2 2h14c1.1 0 2-.9 2-2V5c0-1.1-.9-2-2-2zM9 17H7v-7h2v7zm4 0h-2V7h2v10zm4 0h-2v-4h2v4z\"/>\n",
              "    </g>\n",
              "</svg>\n",
              "  </button>\n",
              "\n",
              "<style>\n",
              "  .colab-df-quickchart {\n",
              "      --bg-color: #E8F0FE;\n",
              "      --fill-color: #1967D2;\n",
              "      --hover-bg-color: #E2EBFA;\n",
              "      --hover-fill-color: #174EA6;\n",
              "      --disabled-fill-color: #AAA;\n",
              "      --disabled-bg-color: #DDD;\n",
              "  }\n",
              "\n",
              "  [theme=dark] .colab-df-quickchart {\n",
              "      --bg-color: #3B4455;\n",
              "      --fill-color: #D2E3FC;\n",
              "      --hover-bg-color: #434B5C;\n",
              "      --hover-fill-color: #FFFFFF;\n",
              "      --disabled-bg-color: #3B4455;\n",
              "      --disabled-fill-color: #666;\n",
              "  }\n",
              "\n",
              "  .colab-df-quickchart {\n",
              "    background-color: var(--bg-color);\n",
              "    border: none;\n",
              "    border-radius: 50%;\n",
              "    cursor: pointer;\n",
              "    display: none;\n",
              "    fill: var(--fill-color);\n",
              "    height: 32px;\n",
              "    padding: 0;\n",
              "    width: 32px;\n",
              "  }\n",
              "\n",
              "  .colab-df-quickchart:hover {\n",
              "    background-color: var(--hover-bg-color);\n",
              "    box-shadow: 0 1px 2px rgba(60, 64, 67, 0.3), 0 1px 3px 1px rgba(60, 64, 67, 0.15);\n",
              "    fill: var(--button-hover-fill-color);\n",
              "  }\n",
              "\n",
              "  .colab-df-quickchart-complete:disabled,\n",
              "  .colab-df-quickchart-complete:disabled:hover {\n",
              "    background-color: var(--disabled-bg-color);\n",
              "    fill: var(--disabled-fill-color);\n",
              "    box-shadow: none;\n",
              "  }\n",
              "\n",
              "  .colab-df-spinner {\n",
              "    border: 2px solid var(--fill-color);\n",
              "    border-color: transparent;\n",
              "    border-bottom-color: var(--fill-color);\n",
              "    animation:\n",
              "      spin 1s steps(1) infinite;\n",
              "  }\n",
              "\n",
              "  @keyframes spin {\n",
              "    0% {\n",
              "      border-color: transparent;\n",
              "      border-bottom-color: var(--fill-color);\n",
              "      border-left-color: var(--fill-color);\n",
              "    }\n",
              "    20% {\n",
              "      border-color: transparent;\n",
              "      border-left-color: var(--fill-color);\n",
              "      border-top-color: var(--fill-color);\n",
              "    }\n",
              "    30% {\n",
              "      border-color: transparent;\n",
              "      border-left-color: var(--fill-color);\n",
              "      border-top-color: var(--fill-color);\n",
              "      border-right-color: var(--fill-color);\n",
              "    }\n",
              "    40% {\n",
              "      border-color: transparent;\n",
              "      border-right-color: var(--fill-color);\n",
              "      border-top-color: var(--fill-color);\n",
              "    }\n",
              "    60% {\n",
              "      border-color: transparent;\n",
              "      border-right-color: var(--fill-color);\n",
              "    }\n",
              "    80% {\n",
              "      border-color: transparent;\n",
              "      border-right-color: var(--fill-color);\n",
              "      border-bottom-color: var(--fill-color);\n",
              "    }\n",
              "    90% {\n",
              "      border-color: transparent;\n",
              "      border-bottom-color: var(--fill-color);\n",
              "    }\n",
              "  }\n",
              "</style>\n",
              "\n",
              "  <script>\n",
              "    async function quickchart(key) {\n",
              "      const quickchartButtonEl =\n",
              "        document.querySelector('#' + key + ' button');\n",
              "      quickchartButtonEl.disabled = true;  // To prevent multiple clicks.\n",
              "      quickchartButtonEl.classList.add('colab-df-spinner');\n",
              "      try {\n",
              "        const charts = await google.colab.kernel.invokeFunction(\n",
              "            'suggestCharts', [key], {});\n",
              "      } catch (error) {\n",
              "        console.error('Error during call to suggestCharts:', error);\n",
              "      }\n",
              "      quickchartButtonEl.classList.remove('colab-df-spinner');\n",
              "      quickchartButtonEl.classList.add('colab-df-quickchart-complete');\n",
              "    }\n",
              "    (() => {\n",
              "      let quickchartButtonEl =\n",
              "        document.querySelector('#df-9649f4a3-835d-417a-b54f-fd090b9ab052 button');\n",
              "      quickchartButtonEl.style.display =\n",
              "        google.colab.kernel.accessAllowed ? 'block' : 'none';\n",
              "    })();\n",
              "  </script>\n",
              "</div>\n",
              "    </div>\n",
              "  </div>\n"
            ]
          },
          "metadata": {},
          "execution_count": 42
        }
      ]
    },
    {
      "cell_type": "code",
      "source": [
        "transactionsCM_and_NY = data_CM_and_NY.groupby('InvoiceNo')['StockCode'].apply(list)"
      ],
      "metadata": {
        "id": "9KnipFlv7iNY"
      },
      "execution_count": 43,
      "outputs": []
    },
    {
      "cell_type": "code",
      "source": [
        "frequentItemsets = list(apriori(transactionsCM_and_NY,min_support = 0.065))\n",
        "frequentItemsets"
      ],
      "metadata": {
        "id": "1y7BfEZZ8K_8",
        "outputId": "6133bf05-0482-42a2-c811-3bc442bfd182",
        "colab": {
          "base_uri": "https://localhost:8080/"
        }
      },
      "execution_count": 44,
      "outputs": [
        {
          "output_type": "execute_result",
          "data": {
            "text/plain": [
              "[RelationRecord(items=frozenset({'22086'}), support=0.09243421052631579, ordered_statistics=[OrderedStatistic(items_base=frozenset(), items_add=frozenset({'22086'}), confidence=0.09243421052631579, lift=1.0)]),\n",
              " RelationRecord(items=frozenset({'22111'}), support=0.07203947368421053, ordered_statistics=[OrderedStatistic(items_base=frozenset(), items_add=frozenset({'22111'}), confidence=0.07203947368421053, lift=1.0)]),\n",
              " RelationRecord(items=frozenset({'22112'}), support=0.07072368421052631, ordered_statistics=[OrderedStatistic(items_base=frozenset(), items_add=frozenset({'22112'}), confidence=0.07072368421052631, lift=1.0)]),\n",
              " RelationRecord(items=frozenset({'22423'}), support=0.08223684210526316, ordered_statistics=[OrderedStatistic(items_base=frozenset(), items_add=frozenset({'22423'}), confidence=0.08223684210526316, lift=1.0)]),\n",
              " RelationRecord(items=frozenset({'22910'}), support=0.07171052631578947, ordered_statistics=[OrderedStatistic(items_base=frozenset(), items_add=frozenset({'22910'}), confidence=0.07171052631578947, lift=1.0)]),\n",
              " RelationRecord(items=frozenset({'85123A'}), support=0.09769736842105263, ordered_statistics=[OrderedStatistic(items_base=frozenset(), items_add=frozenset({'85123A'}), confidence=0.09769736842105263, lift=1.0)])]"
            ]
          },
          "metadata": {},
          "execution_count": 44
        }
      ]
    },
    {
      "cell_type": "code",
      "source": [
        "len(frequentItemsets)"
      ],
      "metadata": {
        "id": "4VzTxKsrAHNl",
        "outputId": "08b02953-74d4-4a44-d10e-d5ffee7bb2b3",
        "colab": {
          "base_uri": "https://localhost:8080/"
        }
      },
      "execution_count": 45,
      "outputs": [
        {
          "output_type": "execute_result",
          "data": {
            "text/plain": [
              "6"
            ]
          },
          "metadata": {},
          "execution_count": 45
        }
      ]
    },
    {
      "cell_type": "code",
      "source": [
        "min_sup = 0.035\n",
        "\n",
        "frequentItemsets = list(apriori(transactionsCM_and_NY,min_support = min_sup))\n",
        "for i in frequentItemsets:\n",
        "    if i[0].__len__()>1:\n",
        "        print('yes')\n",
        "        print(i)"
      ],
      "metadata": {
        "id": "RltNnnd1IMFJ",
        "outputId": "a4684242-9025-4145-fd60-29c13670173e",
        "colab": {
          "base_uri": "https://localhost:8080/"
        }
      },
      "execution_count": 46,
      "outputs": [
        {
          "output_type": "stream",
          "name": "stdout",
          "text": [
            "yes\n",
            "RelationRecord(items=frozenset({'22086', '22910'}), support=0.047697368421052634, ordered_statistics=[OrderedStatistic(items_base=frozenset(), items_add=frozenset({'22086', '22910'}), confidence=0.047697368421052634, lift=1.0), OrderedStatistic(items_base=frozenset({'22086'}), items_add=frozenset({'22910'}), confidence=0.5160142348754448, lift=7.195794834960331), OrderedStatistic(items_base=frozenset({'22910'}), items_add=frozenset({'22086'}), confidence=0.6651376146788991, lift=7.195794834960332)])\n",
            "yes\n",
            "RelationRecord(items=frozenset({'22835', '22112'}), support=0.036513157894736845, ordered_statistics=[OrderedStatistic(items_base=frozenset(), items_add=frozenset({'22835', '22112'}), confidence=0.036513157894736845, lift=1.0), OrderedStatistic(items_base=frozenset({'22112'}), items_add=frozenset({'22835'}), confidence=0.5162790697674419, lift=9.748374981944245), OrderedStatistic(items_base=frozenset({'22835'}), items_add=frozenset({'22112'}), confidence=0.68944099378882, lift=9.748374981944245)])\n",
            "yes\n",
            "RelationRecord(items=frozenset({'22726', '22727'}), support=0.03684210526315789, ordered_statistics=[OrderedStatistic(items_base=frozenset(), items_add=frozenset({'22726', '22727'}), confidence=0.03684210526315789, lift=1.0), OrderedStatistic(items_base=frozenset({'22726'}), items_add=frozenset({'22727'}), confidence=0.7088607594936708, lift=14.462662475575565), OrderedStatistic(items_base=frozenset({'22727'}), items_add=frozenset({'22726'}), confidence=0.7516778523489932, lift=14.462662475575565)])\n"
          ]
        }
      ]
    },
    {
      "cell_type": "code",
      "source": [
        "set(data[(data['StockCode']=='22086') | (data['StockCode']=='22910') | (data['StockCode']=='22835') | (data['StockCode']=='22112') | (data['StockCode']=='22727') | (data['StockCode']=='22726')]['Description'])"
      ],
      "metadata": {
        "id": "LU2LYUwqLehD",
        "outputId": "be166ac7-35a1-4697-b80a-37aed950ef7f",
        "colab": {
          "base_uri": "https://localhost:8080/"
        }
      },
      "execution_count": 47,
      "outputs": [
        {
          "output_type": "execute_result",
          "data": {
            "text/plain": [
              "{'ALARM CLOCK BAKELIKE GREEN',\n",
              " 'ALARM CLOCK BAKELIKE RED ',\n",
              " 'CHOCOLATE HOT WATER BOTTLE',\n",
              " 'HOT WATER BOTTLE I AM SO POORLY',\n",
              " \"PAPER CHAIN KIT 50'S CHRISTMAS \",\n",
              " 'PAPER CHAIN KIT VINTAGE CHRISTMAS',\n",
              " nan}"
            ]
          },
          "metadata": {},
          "execution_count": 47
        }
      ]
    },
    {
      "cell_type": "markdown",
      "source": [
        "### จัดกลุ่มตาม Transaction (ประเทศ + เดือน)"
      ],
      "metadata": {
        "id": "cC2WNW7aBdWW"
      }
    },
    {
      "cell_type": "code",
      "source": [
        "transactionsCM_and_NY = data_CM_and_NY.groupby(['Country', 'month'])['StockCode'].apply(list)"
      ],
      "metadata": {
        "id": "J2JscBHmBbPU"
      },
      "execution_count": 48,
      "outputs": []
    },
    {
      "cell_type": "code",
      "source": [
        "transactionsCM_and_NY"
      ],
      "metadata": {
        "colab": {
          "base_uri": "https://localhost:8080/"
        },
        "id": "LNq1ctgpBhIe",
        "outputId": "525d33e9-e629-4863-f801-79566d70d3f3"
      },
      "execution_count": 49,
      "outputs": [
        {
          "output_type": "execute_result",
          "data": {
            "text/plain": [
              "Country          month\n",
              "Australia        12       [22941, 21622, 21791, 35004C, 35004G, 85014B, ...\n",
              "Austria          12       [22153, 37449, 37446, 22962, 21428, 22113, 223...\n",
              "Bahrain          12                                                [72802B]\n",
              "Belgium          12       [84375, 21217, 21212, 21977, 22417, 21975, 219...\n",
              "Channel Islands  12       [22690, 21955, 20685, 21523, 21169, 22112, 214...\n",
              "Cyprus           12       [85123A, 21031, 21026, 21025, 21032, 21030, 21...\n",
              "Denmark          12       [22847, 22779, 22331, 22365, 22673, 22670, 825...\n",
              "EIRE             12       [22968, 85071A, 85071C, 22355, 21579, 21576, 2...\n",
              "Finland          12       [84992, 22951, 84991, 84991, 21213, 21213, 226...\n",
              "France           12       [22728, 22727, 22726, 21724, 21883, 10002, 217...\n",
              "Germany          12       [22809, 84347, 84945, 22242, 22244, 22243, 474...\n",
              "Greece           12       [POST, 20685, 22941, 22816, 22966, 20725, 2072...\n",
              "Iceland          12       [85116, 22375, 71477, 22492, 22771, 22772, 227...\n",
              "Israel           12                                          [84792, 22474]\n",
              "Italy            12       [22791, 21287, 79337, 85111, 85038, 22809, 228...\n",
              "Japan            12       [85016, 21506, 22716, 22983, 22030, 22984, 850...\n",
              "Lithuania        12       [22409, 21915, 15056BL, 15056N, 20679, 20686, ...\n",
              "Malta            12                   [22768, 85034C, 72807C, 22307, 72741]\n",
              "Netherlands      12       [22867, POST, 21981, 21986, 22720, 21931, 2261...\n",
              "Norway           12       [84692, 22444, 22899, 21156, 22556, 22555, 225...\n",
              "Poland           12       [21733, 21232, 37446, 37448, 21700, 22844, 229...\n",
              "Portugal         12       [21992, 22383, 20728, 20658, 20669, POST, 2072...\n",
              "Spain            12       [22383, 22384, 20727, 20725, 20728, 22504, 222...\n",
              "Sweden           12       [85232B, 85232B, 84077, 22951, 22417, 21977, 8...\n",
              "Switzerland      12       [22326, 22554, 21731, 20677, 20750, POST, 2283...\n",
              "USA              12       [22712, 23344, 85099B, 23209, 79191C, 23392, 8...\n",
              "United Kingdom   12       [85123A, 71053, 84406B, 84029G, 84029E, 22752,...\n",
              "Name: StockCode, dtype: object"
            ]
          },
          "metadata": {},
          "execution_count": 49
        }
      ]
    },
    {
      "cell_type": "code",
      "source": [
        "min_sup =0.3\n",
        "frequentItemsetsCM_and_NY = list(apriori(transactionsCM_and_NY,min_support = min_sup))\n",
        "for i in frequentItemsetsCM_and_NY:\n",
        "    if i[0].__len__()>1:\n",
        "        print('yes')\n",
        "        print(i)"
      ],
      "metadata": {
        "colab": {
          "base_uri": "https://localhost:8080/"
        },
        "id": "m3DfPAZOByKE",
        "outputId": "5db34526-8bf7-4982-b35b-69fdae7f8878"
      },
      "execution_count": 50,
      "outputs": [
        {
          "output_type": "stream",
          "name": "stdout",
          "text": [
            "yes\n",
            "RelationRecord(items=frozenset({'20750', 'POST'}), support=0.3333333333333333, ordered_statistics=[OrderedStatistic(items_base=frozenset(), items_add=frozenset({'20750', 'POST'}), confidence=0.3333333333333333, lift=1.0), OrderedStatistic(items_base=frozenset({'20750'}), items_add=frozenset({'POST'}), confidence=0.9, lift=1.7357142857142858), OrderedStatistic(items_base=frozenset({'POST'}), items_add=frozenset({'20750'}), confidence=0.6428571428571429, lift=1.735714285714286)])\n",
            "yes\n",
            "RelationRecord(items=frozenset({'22727', '22728'}), support=0.3333333333333333, ordered_statistics=[OrderedStatistic(items_base=frozenset(), items_add=frozenset({'22727', '22728'}), confidence=0.3333333333333333, lift=1.0), OrderedStatistic(items_base=frozenset({'22727'}), items_add=frozenset({'22728'}), confidence=1.0, lift=3.0), OrderedStatistic(items_base=frozenset({'22728'}), items_add=frozenset({'22727'}), confidence=1.0, lift=3.0)])\n"
          ]
        }
      ]
    },
    {
      "cell_type": "code",
      "source": [
        "finditem('POST', '20750')"
      ],
      "metadata": {
        "colab": {
          "base_uri": "https://localhost:8080/"
        },
        "id": "ZX-rPihSB541",
        "outputId": "d76e8055-6586-492a-a70a-34c67dce64f5"
      },
      "execution_count": 51,
      "outputs": [
        {
          "output_type": "execute_result",
          "data": {
            "text/plain": [
              "{'POSTAGE', 'RED RETROSPOT MINI CASES', nan}"
            ]
          },
          "metadata": {},
          "execution_count": 51
        }
      ]
    },
    {
      "cell_type": "code",
      "source": [
        "finditem('22727', '22728')"
      ],
      "metadata": {
        "colab": {
          "base_uri": "https://localhost:8080/"
        },
        "id": "d64rUBByB-Ax",
        "outputId": "0fc006c4-d54a-4054-87c6-22a6c7e8bcbe"
      },
      "execution_count": 52,
      "outputs": [
        {
          "output_type": "execute_result",
          "data": {
            "text/plain": [
              "{'ALARM CLOCK BAKELIKE PINK', 'ALARM CLOCK BAKELIKE RED '}"
            ]
          },
          "metadata": {},
          "execution_count": 52
        }
      ]
    },
    {
      "cell_type": "markdown",
      "source": [],
      "metadata": {
        "id": "CqTzx10OBxoO"
      }
    },
    {
      "cell_type": "markdown",
      "source": [
        "มี 3 itemset ที่ผ่าน 0.035\n",
        "\n",
        "RelationRecord(items=frozenset({'22086', '22910'}),\n",
        "support=0.047697368421052634,\n",
        "\n",
        "\n",
        "\n",
        "**คนที่ซื้อ 22086(ALARM CLOCK BAKELIKE GREEN) กับ  22910(ALARM CLOCK BAKELIKE RED) จาก dataset มีค่า confidence ทั้งหมดเท่ากับ 4.77% มีค่า lift เท่ากับ 1 แสดงว่า ไม่มีความสัมพันธ์กัน\n",
        "\n",
        "ordered_statistics=[OrderedStatistic(items_base=frozenset(), items_add=frozenset({'22086', '22910'}), confidence=0.047697368421052634, lift=1.0),\n",
        "\n",
        "\n",
        "\n",
        "**คนที่ซื้อ 22086(ALARM CLOCK BAKELIKE GREEN) แล้วค่อยซื้อ 22910(ALARM CLOCK BAKELIKE RED) มีค่า confidence เท่ากับ 51.6% มีค่า lift เท่ากับ 7.19 ซึ่งมากกว่า 1 แสดงว่ามีความสัมพันธ์กันเชิงบวก หรือ ผันตรงกัน\n",
        "\n",
        "OrderedStatistic(items_base=frozenset({'22086'}), items_add=frozenset({'22910'}), confidence=0.5160142348754448, lift=7.195794834960331),\n",
        "\n",
        "\n",
        "\n",
        "**คนที่ซื้อ 22910(ALARM CLOCK BAKELIKE RED) แล้วค่อยซื้อ 22086(ALARM CLOCK BAKELIKE GREEN) มีค่า confidence ตั้งเท่ากับ 66.51% มีค่า lift เท่ากับ 7.19 ซึ่งมากกว่า 1 แสดงว่ามีความสัมพันธ์กันเชิงบวก หรือ ผันตรงกัน\n",
        "\n",
        "OrderedStatistic(items_base=frozenset({'22910'}), items_add=frozenset({'22086'}), confidence=0.6651376146788991, lift=7.195794834960332)])"
      ],
      "metadata": {
        "id": "DI5paVZaRlmk"
      }
    },
    {
      "cell_type": "markdown",
      "source": [
        "## 2.ประเทศในทวีป Europe"
      ],
      "metadata": {
        "id": "RTc1Bt7s-o8q"
      }
    },
    {
      "cell_type": "markdown",
      "source": [
        "##3.ของช่วงเวลา ตรุษจีน ในทวีป Asia (15 jan - 15 Feb)"
      ],
      "metadata": {
        "id": "7OB16GuQCQML"
      }
    },
    {
      "cell_type": "markdown",
      "source": [
        "##4.ของช่วงเวลา Christmas & New Year ในทวีป Europe(1 Dec - 31 Dec)"
      ],
      "metadata": {
        "id": "LGpaYOOPCT7F"
      }
    },
    {
      "cell_type": "markdown",
      "source": [
        "##5.ของวันวาเลนไทน์ (14 Feb)"
      ],
      "metadata": {
        "id": "5CDsNJKzCWyM"
      }
    },
    {
      "cell_type": "code",
      "source": [
        "Valen_data = data_test[(data_test['month']==2)]"
      ],
      "metadata": {
        "id": "wSxmtZHMD5i8"
      },
      "execution_count": 53,
      "outputs": []
    },
    {
      "cell_type": "code",
      "source": [
        "data_Va = Valen_data[(Valen_data['day'] == '14')]"
      ],
      "metadata": {
        "id": "5bnl7G9VR7ju"
      },
      "execution_count": 54,
      "outputs": []
    },
    {
      "cell_type": "code",
      "source": [
        "data_Va"
      ],
      "metadata": {
        "colab": {
          "base_uri": "https://localhost:8080/",
          "height": 701
        },
        "id": "Fhs7GNGcTiFz",
        "outputId": "d6520032-913d-4639-9f9a-8ae07d4f612e"
      },
      "execution_count": 55,
      "outputs": [
        {
          "output_type": "execute_result",
          "data": {
            "text/plain": [
              "      InvoiceNo StockCode                         Description  Quantity  \\\n",
              "88847    543821     22926      IVORY GIANT GARDEN THERMOMETER         2   \n",
              "88848    543821     22928     YELLOW GIANT GARDEN THERMOMETER         2   \n",
              "88849    543821     22925       BLUE GIANT GARDEN THERMOMETER         2   \n",
              "88850    543821     85175               CACTI T-LIGHT CANDLES        16   \n",
              "88851    543821     22456     NATURAL SLATE CHALKBOARD LARGE          3   \n",
              "...         ...       ...                                 ...       ...   \n",
              "89950    543979     21889              WOODEN BOX OF DOMINOES         1   \n",
              "89951    543979     85176          SEWING SUSAN 21 NEEDLE SET         1   \n",
              "89952    543979     37446  MINI CAKE STAND WITH HANGING CAKES         1   \n",
              "89953    543979     21657     MILK BOTTLE WITH GLASS STOPPER          1   \n",
              "89954   C543980     22728           ALARM CLOCK BAKELIKE PINK        -1   \n",
              "\n",
              "           InvoiceDate  UnitPrice  CustomerID         Country       date day  \\\n",
              "88847   2/14/2011 9:24       5.95     17667.0  United Kingdom  2/14/2011  14   \n",
              "88848   2/14/2011 9:24       5.95     17667.0  United Kingdom  2/14/2011  14   \n",
              "88849   2/14/2011 9:24       5.95     17667.0  United Kingdom  2/14/2011  14   \n",
              "88850   2/14/2011 9:24       0.42     17667.0  United Kingdom  2/14/2011  14   \n",
              "88851   2/14/2011 9:24       4.95     17667.0  United Kingdom  2/14/2011  14   \n",
              "...                ...        ...         ...             ...        ...  ..   \n",
              "89950  2/14/2011 15:43       1.25     14606.0  United Kingdom  2/14/2011  14   \n",
              "89951  2/14/2011 15:43       0.85     14606.0  United Kingdom  2/14/2011  14   \n",
              "89952  2/14/2011 15:43       1.45     14606.0  United Kingdom  2/14/2011  14   \n",
              "89953  2/14/2011 15:43       6.95     14606.0  United Kingdom  2/14/2011  14   \n",
              "89954  2/14/2011 16:39       3.75     14189.0  United Kingdom  2/14/2011  14   \n",
              "\n",
              "      month  year  \n",
              "88847     2  2011  \n",
              "88848     2  2011  \n",
              "88849     2  2011  \n",
              "88850     2  2011  \n",
              "88851     2  2011  \n",
              "...     ...   ...  \n",
              "89950     2  2011  \n",
              "89951     2  2011  \n",
              "89952     2  2011  \n",
              "89953     2  2011  \n",
              "89954     2  2011  \n",
              "\n",
              "[1108 rows x 12 columns]"
            ],
            "text/html": [
              "\n",
              "  <div id=\"df-9b1db4a9-c837-401c-a031-8a66e5fae50a\" class=\"colab-df-container\">\n",
              "    <div>\n",
              "<style scoped>\n",
              "    .dataframe tbody tr th:only-of-type {\n",
              "        vertical-align: middle;\n",
              "    }\n",
              "\n",
              "    .dataframe tbody tr th {\n",
              "        vertical-align: top;\n",
              "    }\n",
              "\n",
              "    .dataframe thead th {\n",
              "        text-align: right;\n",
              "    }\n",
              "</style>\n",
              "<table border=\"1\" class=\"dataframe\">\n",
              "  <thead>\n",
              "    <tr style=\"text-align: right;\">\n",
              "      <th></th>\n",
              "      <th>InvoiceNo</th>\n",
              "      <th>StockCode</th>\n",
              "      <th>Description</th>\n",
              "      <th>Quantity</th>\n",
              "      <th>InvoiceDate</th>\n",
              "      <th>UnitPrice</th>\n",
              "      <th>CustomerID</th>\n",
              "      <th>Country</th>\n",
              "      <th>date</th>\n",
              "      <th>day</th>\n",
              "      <th>month</th>\n",
              "      <th>year</th>\n",
              "    </tr>\n",
              "  </thead>\n",
              "  <tbody>\n",
              "    <tr>\n",
              "      <th>88847</th>\n",
              "      <td>543821</td>\n",
              "      <td>22926</td>\n",
              "      <td>IVORY GIANT GARDEN THERMOMETER</td>\n",
              "      <td>2</td>\n",
              "      <td>2/14/2011 9:24</td>\n",
              "      <td>5.95</td>\n",
              "      <td>17667.0</td>\n",
              "      <td>United Kingdom</td>\n",
              "      <td>2/14/2011</td>\n",
              "      <td>14</td>\n",
              "      <td>2</td>\n",
              "      <td>2011</td>\n",
              "    </tr>\n",
              "    <tr>\n",
              "      <th>88848</th>\n",
              "      <td>543821</td>\n",
              "      <td>22928</td>\n",
              "      <td>YELLOW GIANT GARDEN THERMOMETER</td>\n",
              "      <td>2</td>\n",
              "      <td>2/14/2011 9:24</td>\n",
              "      <td>5.95</td>\n",
              "      <td>17667.0</td>\n",
              "      <td>United Kingdom</td>\n",
              "      <td>2/14/2011</td>\n",
              "      <td>14</td>\n",
              "      <td>2</td>\n",
              "      <td>2011</td>\n",
              "    </tr>\n",
              "    <tr>\n",
              "      <th>88849</th>\n",
              "      <td>543821</td>\n",
              "      <td>22925</td>\n",
              "      <td>BLUE GIANT GARDEN THERMOMETER</td>\n",
              "      <td>2</td>\n",
              "      <td>2/14/2011 9:24</td>\n",
              "      <td>5.95</td>\n",
              "      <td>17667.0</td>\n",
              "      <td>United Kingdom</td>\n",
              "      <td>2/14/2011</td>\n",
              "      <td>14</td>\n",
              "      <td>2</td>\n",
              "      <td>2011</td>\n",
              "    </tr>\n",
              "    <tr>\n",
              "      <th>88850</th>\n",
              "      <td>543821</td>\n",
              "      <td>85175</td>\n",
              "      <td>CACTI T-LIGHT CANDLES</td>\n",
              "      <td>16</td>\n",
              "      <td>2/14/2011 9:24</td>\n",
              "      <td>0.42</td>\n",
              "      <td>17667.0</td>\n",
              "      <td>United Kingdom</td>\n",
              "      <td>2/14/2011</td>\n",
              "      <td>14</td>\n",
              "      <td>2</td>\n",
              "      <td>2011</td>\n",
              "    </tr>\n",
              "    <tr>\n",
              "      <th>88851</th>\n",
              "      <td>543821</td>\n",
              "      <td>22456</td>\n",
              "      <td>NATURAL SLATE CHALKBOARD LARGE</td>\n",
              "      <td>3</td>\n",
              "      <td>2/14/2011 9:24</td>\n",
              "      <td>4.95</td>\n",
              "      <td>17667.0</td>\n",
              "      <td>United Kingdom</td>\n",
              "      <td>2/14/2011</td>\n",
              "      <td>14</td>\n",
              "      <td>2</td>\n",
              "      <td>2011</td>\n",
              "    </tr>\n",
              "    <tr>\n",
              "      <th>...</th>\n",
              "      <td>...</td>\n",
              "      <td>...</td>\n",
              "      <td>...</td>\n",
              "      <td>...</td>\n",
              "      <td>...</td>\n",
              "      <td>...</td>\n",
              "      <td>...</td>\n",
              "      <td>...</td>\n",
              "      <td>...</td>\n",
              "      <td>...</td>\n",
              "      <td>...</td>\n",
              "      <td>...</td>\n",
              "    </tr>\n",
              "    <tr>\n",
              "      <th>89950</th>\n",
              "      <td>543979</td>\n",
              "      <td>21889</td>\n",
              "      <td>WOODEN BOX OF DOMINOES</td>\n",
              "      <td>1</td>\n",
              "      <td>2/14/2011 15:43</td>\n",
              "      <td>1.25</td>\n",
              "      <td>14606.0</td>\n",
              "      <td>United Kingdom</td>\n",
              "      <td>2/14/2011</td>\n",
              "      <td>14</td>\n",
              "      <td>2</td>\n",
              "      <td>2011</td>\n",
              "    </tr>\n",
              "    <tr>\n",
              "      <th>89951</th>\n",
              "      <td>543979</td>\n",
              "      <td>85176</td>\n",
              "      <td>SEWING SUSAN 21 NEEDLE SET</td>\n",
              "      <td>1</td>\n",
              "      <td>2/14/2011 15:43</td>\n",
              "      <td>0.85</td>\n",
              "      <td>14606.0</td>\n",
              "      <td>United Kingdom</td>\n",
              "      <td>2/14/2011</td>\n",
              "      <td>14</td>\n",
              "      <td>2</td>\n",
              "      <td>2011</td>\n",
              "    </tr>\n",
              "    <tr>\n",
              "      <th>89952</th>\n",
              "      <td>543979</td>\n",
              "      <td>37446</td>\n",
              "      <td>MINI CAKE STAND WITH HANGING CAKES</td>\n",
              "      <td>1</td>\n",
              "      <td>2/14/2011 15:43</td>\n",
              "      <td>1.45</td>\n",
              "      <td>14606.0</td>\n",
              "      <td>United Kingdom</td>\n",
              "      <td>2/14/2011</td>\n",
              "      <td>14</td>\n",
              "      <td>2</td>\n",
              "      <td>2011</td>\n",
              "    </tr>\n",
              "    <tr>\n",
              "      <th>89953</th>\n",
              "      <td>543979</td>\n",
              "      <td>21657</td>\n",
              "      <td>MILK BOTTLE WITH GLASS STOPPER</td>\n",
              "      <td>1</td>\n",
              "      <td>2/14/2011 15:43</td>\n",
              "      <td>6.95</td>\n",
              "      <td>14606.0</td>\n",
              "      <td>United Kingdom</td>\n",
              "      <td>2/14/2011</td>\n",
              "      <td>14</td>\n",
              "      <td>2</td>\n",
              "      <td>2011</td>\n",
              "    </tr>\n",
              "    <tr>\n",
              "      <th>89954</th>\n",
              "      <td>C543980</td>\n",
              "      <td>22728</td>\n",
              "      <td>ALARM CLOCK BAKELIKE PINK</td>\n",
              "      <td>-1</td>\n",
              "      <td>2/14/2011 16:39</td>\n",
              "      <td>3.75</td>\n",
              "      <td>14189.0</td>\n",
              "      <td>United Kingdom</td>\n",
              "      <td>2/14/2011</td>\n",
              "      <td>14</td>\n",
              "      <td>2</td>\n",
              "      <td>2011</td>\n",
              "    </tr>\n",
              "  </tbody>\n",
              "</table>\n",
              "<p>1108 rows × 12 columns</p>\n",
              "</div>\n",
              "    <div class=\"colab-df-buttons\">\n",
              "\n",
              "  <div class=\"colab-df-container\">\n",
              "    <button class=\"colab-df-convert\" onclick=\"convertToInteractive('df-9b1db4a9-c837-401c-a031-8a66e5fae50a')\"\n",
              "            title=\"Convert this dataframe to an interactive table.\"\n",
              "            style=\"display:none;\">\n",
              "\n",
              "  <svg xmlns=\"http://www.w3.org/2000/svg\" height=\"24px\" viewBox=\"0 -960 960 960\">\n",
              "    <path d=\"M120-120v-720h720v720H120Zm60-500h600v-160H180v160Zm220 220h160v-160H400v160Zm0 220h160v-160H400v160ZM180-400h160v-160H180v160Zm440 0h160v-160H620v160ZM180-180h160v-160H180v160Zm440 0h160v-160H620v160Z\"/>\n",
              "  </svg>\n",
              "    </button>\n",
              "\n",
              "  <style>\n",
              "    .colab-df-container {\n",
              "      display:flex;\n",
              "      gap: 12px;\n",
              "    }\n",
              "\n",
              "    .colab-df-convert {\n",
              "      background-color: #E8F0FE;\n",
              "      border: none;\n",
              "      border-radius: 50%;\n",
              "      cursor: pointer;\n",
              "      display: none;\n",
              "      fill: #1967D2;\n",
              "      height: 32px;\n",
              "      padding: 0 0 0 0;\n",
              "      width: 32px;\n",
              "    }\n",
              "\n",
              "    .colab-df-convert:hover {\n",
              "      background-color: #E2EBFA;\n",
              "      box-shadow: 0px 1px 2px rgba(60, 64, 67, 0.3), 0px 1px 3px 1px rgba(60, 64, 67, 0.15);\n",
              "      fill: #174EA6;\n",
              "    }\n",
              "\n",
              "    .colab-df-buttons div {\n",
              "      margin-bottom: 4px;\n",
              "    }\n",
              "\n",
              "    [theme=dark] .colab-df-convert {\n",
              "      background-color: #3B4455;\n",
              "      fill: #D2E3FC;\n",
              "    }\n",
              "\n",
              "    [theme=dark] .colab-df-convert:hover {\n",
              "      background-color: #434B5C;\n",
              "      box-shadow: 0px 1px 3px 1px rgba(0, 0, 0, 0.15);\n",
              "      filter: drop-shadow(0px 1px 2px rgba(0, 0, 0, 0.3));\n",
              "      fill: #FFFFFF;\n",
              "    }\n",
              "  </style>\n",
              "\n",
              "    <script>\n",
              "      const buttonEl =\n",
              "        document.querySelector('#df-9b1db4a9-c837-401c-a031-8a66e5fae50a button.colab-df-convert');\n",
              "      buttonEl.style.display =\n",
              "        google.colab.kernel.accessAllowed ? 'block' : 'none';\n",
              "\n",
              "      async function convertToInteractive(key) {\n",
              "        const element = document.querySelector('#df-9b1db4a9-c837-401c-a031-8a66e5fae50a');\n",
              "        const dataTable =\n",
              "          await google.colab.kernel.invokeFunction('convertToInteractive',\n",
              "                                                    [key], {});\n",
              "        if (!dataTable) return;\n",
              "\n",
              "        const docLinkHtml = 'Like what you see? Visit the ' +\n",
              "          '<a target=\"_blank\" href=https://colab.research.google.com/notebooks/data_table.ipynb>data table notebook</a>'\n",
              "          + ' to learn more about interactive tables.';\n",
              "        element.innerHTML = '';\n",
              "        dataTable['output_type'] = 'display_data';\n",
              "        await google.colab.output.renderOutput(dataTable, element);\n",
              "        const docLink = document.createElement('div');\n",
              "        docLink.innerHTML = docLinkHtml;\n",
              "        element.appendChild(docLink);\n",
              "      }\n",
              "    </script>\n",
              "  </div>\n",
              "\n",
              "\n",
              "<div id=\"df-5f72be50-2113-4eaa-aa40-6c9870b8b364\">\n",
              "  <button class=\"colab-df-quickchart\" onclick=\"quickchart('df-5f72be50-2113-4eaa-aa40-6c9870b8b364')\"\n",
              "            title=\"Suggest charts\"\n",
              "            style=\"display:none;\">\n",
              "\n",
              "<svg xmlns=\"http://www.w3.org/2000/svg\" height=\"24px\"viewBox=\"0 0 24 24\"\n",
              "     width=\"24px\">\n",
              "    <g>\n",
              "        <path d=\"M19 3H5c-1.1 0-2 .9-2 2v14c0 1.1.9 2 2 2h14c1.1 0 2-.9 2-2V5c0-1.1-.9-2-2-2zM9 17H7v-7h2v7zm4 0h-2V7h2v10zm4 0h-2v-4h2v4z\"/>\n",
              "    </g>\n",
              "</svg>\n",
              "  </button>\n",
              "\n",
              "<style>\n",
              "  .colab-df-quickchart {\n",
              "      --bg-color: #E8F0FE;\n",
              "      --fill-color: #1967D2;\n",
              "      --hover-bg-color: #E2EBFA;\n",
              "      --hover-fill-color: #174EA6;\n",
              "      --disabled-fill-color: #AAA;\n",
              "      --disabled-bg-color: #DDD;\n",
              "  }\n",
              "\n",
              "  [theme=dark] .colab-df-quickchart {\n",
              "      --bg-color: #3B4455;\n",
              "      --fill-color: #D2E3FC;\n",
              "      --hover-bg-color: #434B5C;\n",
              "      --hover-fill-color: #FFFFFF;\n",
              "      --disabled-bg-color: #3B4455;\n",
              "      --disabled-fill-color: #666;\n",
              "  }\n",
              "\n",
              "  .colab-df-quickchart {\n",
              "    background-color: var(--bg-color);\n",
              "    border: none;\n",
              "    border-radius: 50%;\n",
              "    cursor: pointer;\n",
              "    display: none;\n",
              "    fill: var(--fill-color);\n",
              "    height: 32px;\n",
              "    padding: 0;\n",
              "    width: 32px;\n",
              "  }\n",
              "\n",
              "  .colab-df-quickchart:hover {\n",
              "    background-color: var(--hover-bg-color);\n",
              "    box-shadow: 0 1px 2px rgba(60, 64, 67, 0.3), 0 1px 3px 1px rgba(60, 64, 67, 0.15);\n",
              "    fill: var(--button-hover-fill-color);\n",
              "  }\n",
              "\n",
              "  .colab-df-quickchart-complete:disabled,\n",
              "  .colab-df-quickchart-complete:disabled:hover {\n",
              "    background-color: var(--disabled-bg-color);\n",
              "    fill: var(--disabled-fill-color);\n",
              "    box-shadow: none;\n",
              "  }\n",
              "\n",
              "  .colab-df-spinner {\n",
              "    border: 2px solid var(--fill-color);\n",
              "    border-color: transparent;\n",
              "    border-bottom-color: var(--fill-color);\n",
              "    animation:\n",
              "      spin 1s steps(1) infinite;\n",
              "  }\n",
              "\n",
              "  @keyframes spin {\n",
              "    0% {\n",
              "      border-color: transparent;\n",
              "      border-bottom-color: var(--fill-color);\n",
              "      border-left-color: var(--fill-color);\n",
              "    }\n",
              "    20% {\n",
              "      border-color: transparent;\n",
              "      border-left-color: var(--fill-color);\n",
              "      border-top-color: var(--fill-color);\n",
              "    }\n",
              "    30% {\n",
              "      border-color: transparent;\n",
              "      border-left-color: var(--fill-color);\n",
              "      border-top-color: var(--fill-color);\n",
              "      border-right-color: var(--fill-color);\n",
              "    }\n",
              "    40% {\n",
              "      border-color: transparent;\n",
              "      border-right-color: var(--fill-color);\n",
              "      border-top-color: var(--fill-color);\n",
              "    }\n",
              "    60% {\n",
              "      border-color: transparent;\n",
              "      border-right-color: var(--fill-color);\n",
              "    }\n",
              "    80% {\n",
              "      border-color: transparent;\n",
              "      border-right-color: var(--fill-color);\n",
              "      border-bottom-color: var(--fill-color);\n",
              "    }\n",
              "    90% {\n",
              "      border-color: transparent;\n",
              "      border-bottom-color: var(--fill-color);\n",
              "    }\n",
              "  }\n",
              "</style>\n",
              "\n",
              "  <script>\n",
              "    async function quickchart(key) {\n",
              "      const quickchartButtonEl =\n",
              "        document.querySelector('#' + key + ' button');\n",
              "      quickchartButtonEl.disabled = true;  // To prevent multiple clicks.\n",
              "      quickchartButtonEl.classList.add('colab-df-spinner');\n",
              "      try {\n",
              "        const charts = await google.colab.kernel.invokeFunction(\n",
              "            'suggestCharts', [key], {});\n",
              "      } catch (error) {\n",
              "        console.error('Error during call to suggestCharts:', error);\n",
              "      }\n",
              "      quickchartButtonEl.classList.remove('colab-df-spinner');\n",
              "      quickchartButtonEl.classList.add('colab-df-quickchart-complete');\n",
              "    }\n",
              "    (() => {\n",
              "      let quickchartButtonEl =\n",
              "        document.querySelector('#df-5f72be50-2113-4eaa-aa40-6c9870b8b364 button');\n",
              "      quickchartButtonEl.style.display =\n",
              "        google.colab.kernel.accessAllowed ? 'block' : 'none';\n",
              "    })();\n",
              "  </script>\n",
              "</div>\n",
              "    </div>\n",
              "  </div>\n"
            ]
          },
          "metadata": {},
          "execution_count": 55
        }
      ]
    },
    {
      "cell_type": "markdown",
      "source": [
        "### จัดกลุ่มตาม Transaction (Invoice_No)"
      ],
      "metadata": {
        "id": "5O6TCv8lCmDr"
      }
    },
    {
      "cell_type": "code",
      "source": [
        "transactionsVa  = data_Va.groupby('InvoiceNo')['StockCode'].apply(list)"
      ],
      "metadata": {
        "id": "KSKrq5zvZ0Do"
      },
      "execution_count": 56,
      "outputs": []
    },
    {
      "cell_type": "code",
      "source": [
        "len(transactionsVa)"
      ],
      "metadata": {
        "colab": {
          "base_uri": "https://localhost:8080/"
        },
        "id": "4HICYGzHL52L",
        "outputId": "e7e82727-9efb-4bd8-d629-711fc2fa6c73"
      },
      "execution_count": 57,
      "outputs": [
        {
          "output_type": "execute_result",
          "data": {
            "text/plain": [
              "55"
            ]
          },
          "metadata": {},
          "execution_count": 57
        }
      ]
    },
    {
      "cell_type": "code",
      "source": [
        "frequentItemsets = list(apriori(transactionsVa,min_support = 0.085))\n",
        "frequentItemsets"
      ],
      "metadata": {
        "colab": {
          "base_uri": "https://localhost:8080/"
        },
        "id": "m3_tJBrrVnB4",
        "outputId": "9e45f179-ddd1-425a-bb8f-fd93a3250971"
      },
      "execution_count": 58,
      "outputs": [
        {
          "output_type": "execute_result",
          "data": {
            "text/plain": [
              "[RelationRecord(items=frozenset({'20725'}), support=0.10909090909090909, ordered_statistics=[OrderedStatistic(items_base=frozenset(), items_add=frozenset({'20725'}), confidence=0.10909090909090909, lift=1.0)]),\n",
              " RelationRecord(items=frozenset({'21621'}), support=0.09090909090909091, ordered_statistics=[OrderedStatistic(items_base=frozenset(), items_add=frozenset({'21621'}), confidence=0.09090909090909091, lift=1.0)]),\n",
              " RelationRecord(items=frozenset({'22383'}), support=0.09090909090909091, ordered_statistics=[OrderedStatistic(items_base=frozenset(), items_add=frozenset({'22383'}), confidence=0.09090909090909091, lift=1.0)]),\n",
              " RelationRecord(items=frozenset({'22411'}), support=0.09090909090909091, ordered_statistics=[OrderedStatistic(items_base=frozenset(), items_add=frozenset({'22411'}), confidence=0.09090909090909091, lift=1.0)]),\n",
              " RelationRecord(items=frozenset({'22423'}), support=0.09090909090909091, ordered_statistics=[OrderedStatistic(items_base=frozenset(), items_add=frozenset({'22423'}), confidence=0.09090909090909091, lift=1.0)]),\n",
              " RelationRecord(items=frozenset({'22698'}), support=0.09090909090909091, ordered_statistics=[OrderedStatistic(items_base=frozenset(), items_add=frozenset({'22698'}), confidence=0.09090909090909091, lift=1.0)]),\n",
              " RelationRecord(items=frozenset({'22699'}), support=0.09090909090909091, ordered_statistics=[OrderedStatistic(items_base=frozenset(), items_add=frozenset({'22699'}), confidence=0.09090909090909091, lift=1.0)]),\n",
              " RelationRecord(items=frozenset({'22720'}), support=0.14545454545454545, ordered_statistics=[OrderedStatistic(items_base=frozenset(), items_add=frozenset({'22720'}), confidence=0.14545454545454545, lift=1.0)]),\n",
              " RelationRecord(items=frozenset({'22722'}), support=0.10909090909090909, ordered_statistics=[OrderedStatistic(items_base=frozenset(), items_add=frozenset({'22722'}), confidence=0.10909090909090909, lift=1.0)]),\n",
              " RelationRecord(items=frozenset({'22907'}), support=0.09090909090909091, ordered_statistics=[OrderedStatistic(items_base=frozenset(), items_add=frozenset({'22907'}), confidence=0.09090909090909091, lift=1.0)]),\n",
              " RelationRecord(items=frozenset({'22933'}), support=0.09090909090909091, ordered_statistics=[OrderedStatistic(items_base=frozenset(), items_add=frozenset({'22933'}), confidence=0.09090909090909091, lift=1.0)]),\n",
              " RelationRecord(items=frozenset({'22957'}), support=0.09090909090909091, ordered_statistics=[OrderedStatistic(items_base=frozenset(), items_add=frozenset({'22957'}), confidence=0.09090909090909091, lift=1.0)]),\n",
              " RelationRecord(items=frozenset({'22960'}), support=0.09090909090909091, ordered_statistics=[OrderedStatistic(items_base=frozenset(), items_add=frozenset({'22960'}), confidence=0.09090909090909091, lift=1.0)]),\n",
              " RelationRecord(items=frozenset({'22961'}), support=0.10909090909090909, ordered_statistics=[OrderedStatistic(items_base=frozenset(), items_add=frozenset({'22961'}), confidence=0.10909090909090909, lift=1.0)]),\n",
              " RelationRecord(items=frozenset({'22969'}), support=0.09090909090909091, ordered_statistics=[OrderedStatistic(items_base=frozenset(), items_add=frozenset({'22969'}), confidence=0.09090909090909091, lift=1.0)]),\n",
              " RelationRecord(items=frozenset({'84879'}), support=0.10909090909090909, ordered_statistics=[OrderedStatistic(items_base=frozenset(), items_add=frozenset({'84879'}), confidence=0.10909090909090909, lift=1.0)]),\n",
              " RelationRecord(items=frozenset({'22720', '22722'}), support=0.09090909090909091, ordered_statistics=[OrderedStatistic(items_base=frozenset(), items_add=frozenset({'22720', '22722'}), confidence=0.09090909090909091, lift=1.0), OrderedStatistic(items_base=frozenset({'22720'}), items_add=frozenset({'22722'}), confidence=0.625, lift=5.729166666666667), OrderedStatistic(items_base=frozenset({'22722'}), items_add=frozenset({'22720'}), confidence=0.8333333333333334, lift=5.729166666666667)]),\n",
              " RelationRecord(items=frozenset({'22969', '22720'}), support=0.09090909090909091, ordered_statistics=[OrderedStatistic(items_base=frozenset(), items_add=frozenset({'22969', '22720'}), confidence=0.09090909090909091, lift=1.0), OrderedStatistic(items_base=frozenset({'22720'}), items_add=frozenset({'22969'}), confidence=0.625, lift=6.875), OrderedStatistic(items_base=frozenset({'22969'}), items_add=frozenset({'22720'}), confidence=1.0, lift=6.875)])]"
            ]
          },
          "metadata": {},
          "execution_count": 58
        }
      ]
    },
    {
      "cell_type": "code",
      "source": [
        "len(frequentItemsets)"
      ],
      "metadata": {
        "colab": {
          "base_uri": "https://localhost:8080/"
        },
        "id": "wzRN-4whV3v9",
        "outputId": "31d1d86c-9449-4690-8904-233e7a585640"
      },
      "execution_count": 59,
      "outputs": [
        {
          "output_type": "execute_result",
          "data": {
            "text/plain": [
              "18"
            ]
          },
          "metadata": {},
          "execution_count": 59
        }
      ]
    },
    {
      "cell_type": "code",
      "source": [
        "min_sup = 0.09\n",
        "frequentItemsets_Va= list(apriori(transactionsVa ,min_support = min_sup))\n",
        "for i in frequentItemsets_Va:\n",
        "    if i[0].__len__()>1:\n",
        "        print('yes')\n",
        "        print(i)"
      ],
      "metadata": {
        "colab": {
          "base_uri": "https://localhost:8080/"
        },
        "id": "lrydB_d9U56S",
        "outputId": "0a484bdd-6414-4961-b073-e56b913fe1d7"
      },
      "execution_count": 60,
      "outputs": [
        {
          "output_type": "stream",
          "name": "stdout",
          "text": [
            "yes\n",
            "RelationRecord(items=frozenset({'22720', '22722'}), support=0.09090909090909091, ordered_statistics=[OrderedStatistic(items_base=frozenset(), items_add=frozenset({'22720', '22722'}), confidence=0.09090909090909091, lift=1.0), OrderedStatistic(items_base=frozenset({'22720'}), items_add=frozenset({'22722'}), confidence=0.625, lift=5.729166666666667), OrderedStatistic(items_base=frozenset({'22722'}), items_add=frozenset({'22720'}), confidence=0.8333333333333334, lift=5.729166666666667)])\n",
            "yes\n",
            "RelationRecord(items=frozenset({'22969', '22720'}), support=0.09090909090909091, ordered_statistics=[OrderedStatistic(items_base=frozenset(), items_add=frozenset({'22969', '22720'}), confidence=0.09090909090909091, lift=1.0), OrderedStatistic(items_base=frozenset({'22720'}), items_add=frozenset({'22969'}), confidence=0.625, lift=6.875), OrderedStatistic(items_base=frozenset({'22969'}), items_add=frozenset({'22720'}), confidence=1.0, lift=6.875)])\n"
          ]
        }
      ]
    },
    {
      "cell_type": "code",
      "source": [
        "set(data[(data['StockCode']=='22720') | (data['StockCode']=='22722') | (data['StockCode']=='22720') | (data['StockCode']=='22969')]['Description'])"
      ],
      "metadata": {
        "colab": {
          "base_uri": "https://localhost:8080/"
        },
        "id": "HfV9bAvwZACk",
        "outputId": "1fd8bd25-4f5b-4698-d048-471d024c939a"
      },
      "execution_count": 61,
      "outputs": [
        {
          "output_type": "execute_result",
          "data": {
            "text/plain": [
              "{'HOMEMADE JAM SCENTED CANDLES',\n",
              " 'SET OF 3 CAKE TINS PANTRY DESIGN ',\n",
              " 'SET OF 6 SPICE TINS PANTRY DESIGN',\n",
              " nan}"
            ]
          },
          "metadata": {},
          "execution_count": 61
        }
      ]
    },
    {
      "cell_type": "markdown",
      "source": [
        "### จัดกลุ่มตาม Transaction (ประเทศ + เดือน)"
      ],
      "metadata": {
        "id": "AiweH0UUCpz6"
      }
    },
    {
      "cell_type": "code",
      "source": [
        "transactionsVa = data_Va.groupby(['Country', 'month'])['StockCode'].apply(list)"
      ],
      "metadata": {
        "id": "pNTKFTleZOGJ"
      },
      "execution_count": 62,
      "outputs": []
    },
    {
      "cell_type": "code",
      "source": [
        "transactionsVa"
      ],
      "metadata": {
        "colab": {
          "base_uri": "https://localhost:8080/"
        },
        "id": "HxD1zp8NZSJq",
        "outputId": "d27946b9-c4a1-44dc-8e5f-ba6852c0b197"
      },
      "execution_count": 63,
      "outputs": [
        {
          "output_type": "execute_result",
          "data": {
            "text/plain": [
              "Country               month\n",
              "EIRE                  2        [22723, 22722, 22720, 22899, 22567, 84987, 228...\n",
              "France                2                                                 [79190B]\n",
              "Germany               2        [22328, 22720, 22847, 22788, 22957, 21621, 227...\n",
              "Spain                 2        [22139, 20973, 22585, 22960, 84380, 84378, 229...\n",
              "United Arab Emirates  2        [21485, 48138, 85150, 82552, 82551, 82583, 224...\n",
              "United Kingdom        2        [22926, 22928, 22925, 85175, 22456, 22854, 227...\n",
              "Name: StockCode, dtype: object"
            ]
          },
          "metadata": {},
          "execution_count": 63
        }
      ]
    },
    {
      "cell_type": "code",
      "source": [
        "min_sup =0.04\n",
        "frequentItemsets_Va = list(apriori(transactionsVa,min_support = min_sup))\n",
        "for i in frequentItemsets_Va:\n",
        "    if i[0].__len__()>1:\n",
        "        print('yes')\n",
        "        print(i)"
      ],
      "metadata": {
        "id": "DsZxLixybjs5"
      },
      "execution_count": null,
      "outputs": []
    },
    {
      "cell_type": "code",
      "source": [],
      "metadata": {
        "id": "4Hk8q1Fmfc0E"
      },
      "execution_count": null,
      "outputs": []
    }
  ]
}
{
  "nbformat": 4,
  "nbformat_minor": 0,
  "metadata": {
    "colab": {
      "provenance": [],
      "authorship_tag": "ABX9TyM8xAncHvHzaNk7YT6S+bWW",
      "include_colab_link": true
    },
    "kernelspec": {
      "name": "python3",
      "display_name": "Python 3"
    },
    "language_info": {
      "name": "python"
    }
  },
  "cells": [
    {
      "cell_type": "markdown",
      "metadata": {
        "id": "view-in-github",
        "colab_type": "text"
      },
      "source": [
        "<a href=\"https://colab.research.google.com/github/Sashimimeow/BSC_DPDM23/blob/main/Quiz8.ipynb\" target=\"_parent\"><img src=\"https://colab.research.google.com/assets/colab-badge.svg\" alt=\"Open In Colab\"/></a>"
      ]
    },
    {
      "cell_type": "markdown",
      "source": [
        "#Quiz8\n"
      ],
      "metadata": {
        "id": "lY8W87NPqFjU"
      }
    },
    {
      "cell_type": "markdown",
      "source": [
        "https://cdn.fbsbx.com/v/t59.2708-21/427351878_904040431726759_6794748581973024644_n.pdf/Quiz8.pdf?_nc_cat=100&ccb=1-7&_nc_sid=2b0e22&_nc_eui2=AeFf_oC_qQZnJhY_DTgmlw5VMM1XWN-GjkswzVdY34aOS6g8GjEFwB-gItkulVoPt_BMFmisU6EKNiJ3EckkXEXO&_nc_ohc=9KRi9g3cKeMAX9i6YLb&_nc_ht=cdn.fbsbx.com&oh=03_AdSgHJ0hUNIaVUpr2mR-f46ibtywLirtlld0U0AahYCAJw&oe=65CB1D8A&dl=1"
      ],
      "metadata": {
        "id": "VyAQy3FxqJAw"
      }
    }
  ]
}